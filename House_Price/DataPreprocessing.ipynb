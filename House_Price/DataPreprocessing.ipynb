{
 "cells": [
  {
   "cell_type": "code",
   "execution_count": 104,
   "id": "dee6a645-ef8c-43f2-bb0e-31d2c7aeecae",
   "metadata": {},
   "outputs": [],
   "source": [
    "import pandas as pd\n",
    "import numpy as np\n",
    "import seaborn as sns\n",
    "import matplotlib.pyplot as plt\n",
    "from datetime import date"
   ]
  },
  {
   "cell_type": "code",
   "execution_count": 170,
   "id": "076a1ed7-f2be-4357-8c61-4e52a7e1ea18",
   "metadata": {},
   "outputs": [],
   "source": [
    "df=pd.read_excel(\"istanbul_konut_bilgileri.xlsx\")"
   ]
  },
  {
   "cell_type": "code",
   "execution_count": 171,
   "id": "abb679a2-ff0f-4c4d-b72c-3df379389593",
   "metadata": {},
   "outputs": [
    {
     "data": {
      "text/html": [
       "<div>\n",
       "<style scoped>\n",
       "    .dataframe tbody tr th:only-of-type {\n",
       "        vertical-align: middle;\n",
       "    }\n",
       "\n",
       "    .dataframe tbody tr th {\n",
       "        vertical-align: top;\n",
       "    }\n",
       "\n",
       "    .dataframe thead th {\n",
       "        text-align: right;\n",
       "    }\n",
       "</style>\n",
       "<table border=\"1\" class=\"dataframe\">\n",
       "  <thead>\n",
       "    <tr style=\"text-align: right;\">\n",
       "      <th></th>\n",
       "      <th>İlan Adı</th>\n",
       "      <th>İlan Fiyatı</th>\n",
       "      <th>Adres bilgisi</th>\n",
       "      <th>Konut büyüklüğü</th>\n",
       "      <th>Konut tipi</th>\n",
       "      <th>İlanın koyulma tarihi</th>\n",
       "      <th>Oda sayısı</th>\n",
       "    </tr>\n",
       "  </thead>\n",
       "  <tbody>\n",
       "    <tr>\n",
       "      <th>0</th>\n",
       "      <td>Esenyurt RÜYA YAŞAM SİTESI</td>\n",
       "      <td>12.000 TL</td>\n",
       "      <td>İstanbul - Esenyurt - Barbaros Hayrettin Paşa Mh.</td>\n",
       "      <td>65 m2</td>\n",
       "      <td>Villa</td>\n",
       "      <td>9 Mart</td>\n",
       "      <td>1+1</td>\n",
       "    </tr>\n",
       "    <tr>\n",
       "      <th>1</th>\n",
       "      <td>2+1 kiralık bahçe katı</td>\n",
       "      <td>9.000 TL</td>\n",
       "      <td>İstanbul - Başakşehir - Güvercintepe Mh.</td>\n",
       "      <td>85 m2</td>\n",
       "      <td>Daire</td>\n",
       "      <td>9 Mart</td>\n",
       "      <td>2+1</td>\n",
       "    </tr>\n",
       "    <tr>\n",
       "      <th>2</th>\n",
       "      <td>ESENYURT PİRİ REİS MH GÜMÜŞ REFERANS İÇİ YAPIL...</td>\n",
       "      <td>13.000 TL</td>\n",
       "      <td>İstanbul - Esenyurt - Piri Reis Mh.</td>\n",
       "      <td>90 m2</td>\n",
       "      <td>Daire</td>\n",
       "      <td>9 Mart</td>\n",
       "      <td>1+1</td>\n",
       "    </tr>\n",
       "    <tr>\n",
       "      <th>3</th>\n",
       "      <td>IMTILAA GAYRİMENKUL DEN Fİ YAKA SİTESİ 3+1 12...</td>\n",
       "      <td>15.000 TL</td>\n",
       "      <td>İstanbul - Esenyurt - Çınar Mh.</td>\n",
       "      <td>135 m2</td>\n",
       "      <td>Daire</td>\n",
       "      <td>9 Mart</td>\n",
       "      <td>3+1</td>\n",
       "    </tr>\n",
       "    <tr>\n",
       "      <th>4</th>\n",
       "      <td>KRAL 34 GAYRİMENKUL DEN  60M1 1+1 KAT. 3  KİRA...</td>\n",
       "      <td>10.000 TL</td>\n",
       "      <td>İstanbul - Güngören - Mareşal Çakmak Mh.</td>\n",
       "      <td>75 m2</td>\n",
       "      <td>Daire</td>\n",
       "      <td>9 Mart</td>\n",
       "      <td>1+1</td>\n",
       "    </tr>\n",
       "    <tr>\n",
       "      <th>5</th>\n",
       "      <td>KADIKÖY MODA DA 2 ARTI 1 KİRAL...</td>\n",
       "      <td>25.000 TL</td>\n",
       "      <td>İstanbul - Kadıköy - Caferağa Mh.</td>\n",
       "      <td>100 m2</td>\n",
       "      <td>Daire</td>\n",
       "      <td>9 Mart</td>\n",
       "      <td>2+1</td>\n",
       "    </tr>\n",
       "    <tr>\n",
       "      <th>6</th>\n",
       "      <td>Avcilar cihangir mahallesinde kiralik 2+1 daire</td>\n",
       "      <td>14.000 TL</td>\n",
       "      <td>İstanbul - Avcılar - Cihangir Mh.</td>\n",
       "      <td>110 m2</td>\n",
       "      <td>Daire</td>\n",
       "      <td>9 Mart</td>\n",
       "      <td>2+1</td>\n",
       "    </tr>\n",
       "    <tr>\n",
       "      <th>7</th>\n",
       "      <td>ZAFER YAPI GAYRİMENKUL'DEN KİRALIK BAHÇE KAT D...</td>\n",
       "      <td>9.000 TL</td>\n",
       "      <td>İstanbul - Sultangazi - 50. Yıl Mh.</td>\n",
       "      <td>95 m2</td>\n",
       "      <td>Daire</td>\n",
       "      <td>8 Mart</td>\n",
       "      <td>2+1</td>\n",
       "    </tr>\n",
       "    <tr>\n",
       "      <th>8</th>\n",
       "      <td>DAMAS 34 TAN BULVAR İSTANBUL REZİDANS TE KİRAL...</td>\n",
       "      <td>40.000 TL</td>\n",
       "      <td>İstanbul - Başakşehir - Başakşehir Mh.</td>\n",
       "      <td>215 m2</td>\n",
       "      <td>Daire</td>\n",
       "      <td>8 Mart</td>\n",
       "      <td>4+1</td>\n",
       "    </tr>\n",
       "    <tr>\n",
       "      <th>9</th>\n",
       "      <td>ÇUKURBOSTAN PARKI’NIN KARŞISINDA YÜKSEK GİRİŞ...</td>\n",
       "      <td>14.000 TL</td>\n",
       "      <td>İstanbul - Fatih - Seyyid Ömer Mh.</td>\n",
       "      <td>60 m2</td>\n",
       "      <td>Daire</td>\n",
       "      <td>8 Mart</td>\n",
       "      <td>1+1</td>\n",
       "    </tr>\n",
       "    <tr>\n",
       "      <th>10</th>\n",
       "      <td>İNVESTMENT WORLD DEN BEYKOZ SOĞUKSU MAHALLESİN...</td>\n",
       "      <td>18.000 TL</td>\n",
       "      <td>İstanbul - Beykoz - Soğuksu Mh.</td>\n",
       "      <td>120 m2</td>\n",
       "      <td>Daire</td>\n",
       "      <td>9 Mart</td>\n",
       "      <td>2+2</td>\n",
       "    </tr>\n",
       "    <tr>\n",
       "      <th>11</th>\n",
       "      <td>ATABAY EMLAK’TAN ESENYURT İNÖNÜ MAH MEYDANA YA...</td>\n",
       "      <td>12.500 TL</td>\n",
       "      <td>İstanbul - Esenyurt - İnönü Mh.</td>\n",
       "      <td>120 m2</td>\n",
       "      <td>Daire</td>\n",
       "      <td>8 Mart</td>\n",
       "      <td>3+1</td>\n",
       "    </tr>\n",
       "    <tr>\n",
       "      <th>12</th>\n",
       "      <td>2+1 köprü şehir ve yeşil alan manzaralı</td>\n",
       "      <td>18.000 TL</td>\n",
       "      <td>İstanbul - Sarıyer - Pınar Mh.</td>\n",
       "      <td>110 m2</td>\n",
       "      <td>Daire</td>\n",
       "      <td>8 Mart</td>\n",
       "      <td>2+1</td>\n",
       "    </tr>\n",
       "    <tr>\n",
       "      <th>13</th>\n",
       "      <td>BEYLİKDÜZÜ ADNANKAHVECİ MH DENİZ GÖL MANZARAL...</td>\n",
       "      <td>20.000 TL</td>\n",
       "      <td>İstanbul - Büyükçekmece - Pınartepe Mh.</td>\n",
       "      <td>150 m2</td>\n",
       "      <td>Daire</td>\n",
       "      <td>9 Mart</td>\n",
       "      <td>3+1</td>\n",
       "    </tr>\n",
       "    <tr>\n",
       "      <th>14</th>\n",
       "      <td>Büyükçekmece Tepecik Ulus Mahallesi'nde kiralı...</td>\n",
       "      <td>9.500 TL</td>\n",
       "      <td>İstanbul - Büyükçekmece - Ulus Mh.</td>\n",
       "      <td>110 m2</td>\n",
       "      <td>Daire</td>\n",
       "      <td>9 Mart</td>\n",
       "      <td>2+1</td>\n",
       "    </tr>\n",
       "    <tr>\n",
       "      <th>15</th>\n",
       "      <td>ESENYURT PİRİ REİS MH DELTA TOVERS 1.5+1 GÜVE...</td>\n",
       "      <td>10.000 TL</td>\n",
       "      <td>İstanbul - Esenyurt - Piri Reis Mh.</td>\n",
       "      <td>75 m2</td>\n",
       "      <td>Residence</td>\n",
       "      <td>9 Mart</td>\n",
       "      <td>1.5+1</td>\n",
       "    </tr>\n",
       "    <tr>\n",
       "      <th>16</th>\n",
       "      <td>ESENYURT YEŞİLKENT MH MERKEZİ KONUMDA YENİ Bİ...</td>\n",
       "      <td>10.000 TL</td>\n",
       "      <td>İstanbul - Esenyurt - Yeşilkent Mh.</td>\n",
       "      <td>90 m2</td>\n",
       "      <td>Daire</td>\n",
       "      <td>9 Mart</td>\n",
       "      <td>2+1</td>\n",
       "    </tr>\n",
       "    <tr>\n",
       "      <th>17</th>\n",
       "      <td>HÜRRİYETTE KİRALIK 3+1 3.KAT DAİRE</td>\n",
       "      <td>13.000 TL</td>\n",
       "      <td>İstanbul - Bağcılar - Hürriyet Mh.</td>\n",
       "      <td>115 m2</td>\n",
       "      <td>Daire</td>\n",
       "      <td>8 Mart</td>\n",
       "      <td>3+1</td>\n",
       "    </tr>\n",
       "    <tr>\n",
       "      <th>18</th>\n",
       "      <td>ŞİRİNEVLER DE EŞYALI KİRALIK DAİRE TERAS KAT M...</td>\n",
       "      <td>12.000 TL</td>\n",
       "      <td>İstanbul - Bahçelievler - Hürriyet Mh.</td>\n",
       "      <td>90 m2</td>\n",
       "      <td>Daire</td>\n",
       "      <td>8 Mart</td>\n",
       "      <td>2+1</td>\n",
       "    </tr>\n",
       "    <tr>\n",
       "      <th>19</th>\n",
       "      <td>Halkalı Atakent Avrupa 2 kiralık 1+1 büyük daire</td>\n",
       "      <td>25.000 TL</td>\n",
       "      <td>İstanbul - Küçükçekmece - Atakent Mh.</td>\n",
       "      <td>103 m2</td>\n",
       "      <td>Daire</td>\n",
       "      <td>9 Mart</td>\n",
       "      <td>1+1</td>\n",
       "    </tr>\n",
       "    <tr>\n",
       "      <th>20</th>\n",
       "      <td>GÜZELYURT DURAĞI YANINDA ASTON PLAZADA KISA/U...</td>\n",
       "      <td>16.500 TL</td>\n",
       "      <td>İstanbul - Beylikdüzü - Yakuplu Mh.</td>\n",
       "      <td>55 m2</td>\n",
       "      <td>Daire</td>\n",
       "      <td>9 Mart</td>\n",
       "      <td>1+1</td>\n",
       "    </tr>\n",
       "    <tr>\n",
       "      <th>21</th>\n",
       "      <td>ESENYURT TALATPAŞADA FULL EŞYALI KİRALIK 3+1 ...</td>\n",
       "      <td>10.000 TL</td>\n",
       "      <td>İstanbul - Esenyurt - Talatpaşa Mh.</td>\n",
       "      <td>145 m2</td>\n",
       "      <td>Daire</td>\n",
       "      <td>7 Mart</td>\n",
       "      <td>3+1</td>\n",
       "    </tr>\n",
       "    <tr>\n",
       "      <th>22</th>\n",
       "      <td>SOĞANLI MEYDAN YAKINI 3+1 4.KAT MASRAFSIZ KİR...</td>\n",
       "      <td>13.000 TL</td>\n",
       "      <td>İstanbul - Bahçelievler - Soğanlı Mh.</td>\n",
       "      <td>120 m2</td>\n",
       "      <td>Daire</td>\n",
       "      <td>7 Mart</td>\n",
       "      <td>2+1</td>\n",
       "    </tr>\n",
       "    <tr>\n",
       "      <th>23</th>\n",
       "      <td>ESENYURT KILIÇ TOWERS 2+1 BALKONLU LÜX KİRALI...</td>\n",
       "      <td>10.000 TL</td>\n",
       "      <td>İstanbul - Esenyurt - Talatpaşa Mh.</td>\n",
       "      <td>135 m2</td>\n",
       "      <td>Daire</td>\n",
       "      <td>7 Mart</td>\n",
       "      <td>2+1</td>\n",
       "    </tr>\n",
       "    <tr>\n",
       "      <th>24</th>\n",
       "      <td>ÜMRANİYE ÇAMLIK İKBAL CADDESİ ÜZERİNDE MERKEZİ...</td>\n",
       "      <td>11.000 TL</td>\n",
       "      <td>İstanbul - Ümraniye - Çamlık Mh.</td>\n",
       "      <td>85 m2</td>\n",
       "      <td>Daire</td>\n",
       "      <td>7 Mart</td>\n",
       "      <td>2+1</td>\n",
       "    </tr>\n",
       "    <tr>\n",
       "      <th>25</th>\n",
       "      <td>Hülya Emlak'tan 2+1 Eşyalı Kiralık Daire</td>\n",
       "      <td>22.000 TL</td>\n",
       "      <td>İstanbul - Şişli - Gülbahar Mh.</td>\n",
       "      <td>110 m2</td>\n",
       "      <td>Daire</td>\n",
       "      <td>7 Mart</td>\n",
       "      <td>2+1</td>\n",
       "    </tr>\n",
       "    <tr>\n",
       "      <th>26</th>\n",
       "      <td>KÜÇÜKKÖY YENİ MAHALLE KİRALIK 1+1  GİRİŞ DAİRE</td>\n",
       "      <td>13.000 TL</td>\n",
       "      <td>İstanbul - Gaziosmanpaşa - Yeni Mahalle Mh.</td>\n",
       "      <td>70 m2</td>\n",
       "      <td>Daire</td>\n",
       "      <td>7 Mart</td>\n",
       "      <td>1+1</td>\n",
       "    </tr>\n",
       "    <tr>\n",
       "      <th>27</th>\n",
       "      <td>TAKSIM,TEPEBAŞI 1+0 1+1 2+1 LUKS TEMIZ GUNLUK...</td>\n",
       "      <td>150 TL</td>\n",
       "      <td>İstanbul - Beyoğlu - Kamer Hatun Mh.</td>\n",
       "      <td>40 m2</td>\n",
       "      <td>Daire</td>\n",
       "      <td>9 Mart</td>\n",
       "      <td>1 Oda</td>\n",
       "    </tr>\n",
       "    <tr>\n",
       "      <th>28</th>\n",
       "      <td>BÜYÜKÇEKEMCE PINARTEPE MH DEMİR KONAKLARINDA ...</td>\n",
       "      <td>20.000 TL</td>\n",
       "      <td>İstanbul - Büyükçekmece - Pınartepe Mh.</td>\n",
       "      <td>150 m2</td>\n",
       "      <td>Daire</td>\n",
       "      <td>9 Mart</td>\n",
       "      <td>3+1</td>\n",
       "    </tr>\n",
       "    <tr>\n",
       "      <th>29</th>\n",
       "      <td>ESENYURT TURGUT ÖZAL MAHALLESİ 3+1 KİRALIK DA...</td>\n",
       "      <td>13.000 TL</td>\n",
       "      <td>İstanbul - Esenyurt - Turgut Özal Mh.</td>\n",
       "      <td>140 m2</td>\n",
       "      <td>Daire</td>\n",
       "      <td>7 Mart</td>\n",
       "      <td>3+1</td>\n",
       "    </tr>\n",
       "    <tr>\n",
       "      <th>30</th>\n",
       "      <td>BEYLİKDÜZÜ KAVAKLIDA ESTON REŞİTPAŞA 1.KISIM 2...</td>\n",
       "      <td>16.000 TL</td>\n",
       "      <td>İstanbul - Beylikdüzü - Kavaklı Mh.</td>\n",
       "      <td>96 m2</td>\n",
       "      <td>Daire</td>\n",
       "      <td>9 Mart</td>\n",
       "      <td>2+1</td>\n",
       "    </tr>\n",
       "    <tr>\n",
       "      <th>31</th>\n",
       "      <td>ŞAHANE YAPI'DAN METROBÜSE 5 DK UZAKLIKTA ARAK...</td>\n",
       "      <td>16.000 TL</td>\n",
       "      <td>İstanbul - Esenyurt - Mehmet Akif Ersoy Mh.</td>\n",
       "      <td>110 m2</td>\n",
       "      <td>Daire</td>\n",
       "      <td>9 Mart</td>\n",
       "      <td>2+1</td>\n",
       "    </tr>\n",
       "    <tr>\n",
       "      <th>32</th>\n",
       "      <td>KADIKÖY MERKEZDE LÜKS 1+0 YENİ EŞYALI ARAKAT Ç...</td>\n",
       "      <td>15.000 TL</td>\n",
       "      <td>İstanbul - Kadıköy - Osmanağa Mh.</td>\n",
       "      <td>45 m2</td>\n",
       "      <td>Daire</td>\n",
       "      <td>7 Mart</td>\n",
       "      <td>Stüdyo</td>\n",
       "    </tr>\n",
       "    <tr>\n",
       "      <th>33</th>\n",
       "      <td>YELDEĞİRMENİ VE SÖĞÜTLÜÇEŞME ARASINDA YEPYENİ ...</td>\n",
       "      <td>19.000 TL</td>\n",
       "      <td>İstanbul - Kadıköy - Rasimpaşa Mh.</td>\n",
       "      <td>95 m2</td>\n",
       "      <td>Daire</td>\n",
       "      <td>7 Mart</td>\n",
       "      <td>1+1</td>\n",
       "    </tr>\n",
       "    <tr>\n",
       "      <th>34</th>\n",
       "      <td>Yıldız Emlak tan-7 bin tl - Pasa meydana 3 dk-...</td>\n",
       "      <td>7.000 TL</td>\n",
       "      <td>İstanbul - Fatih - Koca Mustafapaşa Mh.</td>\n",
       "      <td>60 m2</td>\n",
       "      <td>Daire</td>\n",
       "      <td>6 Mart</td>\n",
       "      <td>1+1</td>\n",
       "    </tr>\n",
       "    <tr>\n",
       "      <th>35</th>\n",
       "      <td>zirvem emlak tan çağlayan mah kiralık 1 X1 sob...</td>\n",
       "      <td>8.000 TL</td>\n",
       "      <td>İstanbul - Kağıthane - Çağlayan Mh.</td>\n",
       "      <td>65 m2</td>\n",
       "      <td>Daire</td>\n",
       "      <td>6 Mart</td>\n",
       "      <td>1+1</td>\n",
       "    </tr>\n",
       "    <tr>\n",
       "      <th>36</th>\n",
       "      <td>MALLOF İSTANBUL ARENAPARK 212 AVM YANINDA | LÜ...</td>\n",
       "      <td>199 TL</td>\n",
       "      <td>İstanbul - Başakşehir - İkitelli OSB Mh.</td>\n",
       "      <td>50 m2</td>\n",
       "      <td>Daire</td>\n",
       "      <td>7 Mart</td>\n",
       "      <td>Stüdyo</td>\n",
       "    </tr>\n",
       "    <tr>\n",
       "      <th>37</th>\n",
       "      <td>Arnavutköy HAVAKENT SİTESİNDE LÜX SIFIR Eşyalı...</td>\n",
       "      <td>18.400 TL</td>\n",
       "      <td>İstanbul - Arnavutköy - Mareşal Fevzi Çakmak Mh.</td>\n",
       "      <td>100 m2</td>\n",
       "      <td>Daire</td>\n",
       "      <td>8 Mart</td>\n",
       "      <td>2+1</td>\n",
       "    </tr>\n",
       "    <tr>\n",
       "      <th>38</th>\n",
       "      <td>ASGOLD'DAN MURATÇEŞMEDE E 5 YAKIN KİRALIK MANZ...</td>\n",
       "      <td>18.500 TL</td>\n",
       "      <td>İstanbul - Büyükçekmece - Murat Çeşme Mh.</td>\n",
       "      <td>170 m2</td>\n",
       "      <td>Daire</td>\n",
       "      <td>6 Mart</td>\n",
       "      <td>3+2</td>\n",
       "    </tr>\n",
       "    <tr>\n",
       "      <th>39</th>\n",
       "      <td>MİMARSİNAN KİPTAŞ EVLERİNDE KİRALIK 2+1 TERTEM...</td>\n",
       "      <td>11.000 TL</td>\n",
       "      <td>İstanbul - Büyükçekmece - Murat Çeşme Mh.</td>\n",
       "      <td>80 m2</td>\n",
       "      <td>Daire</td>\n",
       "      <td>6 Mart</td>\n",
       "      <td>2.5+1</td>\n",
       "    </tr>\n",
       "    <tr>\n",
       "      <th>40</th>\n",
       "      <td>ASGOLD'DAN TEPECİK HAMAM CADDESİNDE KİRALIK 2+...</td>\n",
       "      <td>11.500 TL</td>\n",
       "      <td>İstanbul - Büyükçekmece - Ulus Mh.</td>\n",
       "      <td>85 m2</td>\n",
       "      <td>Daire</td>\n",
       "      <td>6 Mart</td>\n",
       "      <td>2+1</td>\n",
       "    </tr>\n",
       "    <tr>\n",
       "      <th>41</th>\n",
       "      <td>TA GAYRIMENKUL'DEN MANZARALI KİRALİK 3+1 Daire</td>\n",
       "      <td>16.000 TL</td>\n",
       "      <td>İstanbul - Küçükçekmece - Cumhuriyet Mh.</td>\n",
       "      <td>120 m2</td>\n",
       "      <td>Daire</td>\n",
       "      <td>7 Mart</td>\n",
       "      <td>3+1</td>\n",
       "    </tr>\n",
       "    <tr>\n",
       "      <th>42</th>\n",
       "      <td>ARENAPARK AVM MALLOF HALKALI ATEKENT İKİTELLİ ...</td>\n",
       "      <td>199 TL</td>\n",
       "      <td>İstanbul - Küçükçekmece - Atakent Mh.</td>\n",
       "      <td>50 m2</td>\n",
       "      <td>Daire</td>\n",
       "      <td>9 Mart</td>\n",
       "      <td>Stüdyo</td>\n",
       "    </tr>\n",
       "    <tr>\n",
       "      <th>43</th>\n",
       "      <td>Kombili doğalgazlı bahçeli daire</td>\n",
       "      <td>8.500 TL</td>\n",
       "      <td>İstanbul - Ümraniye - Topağacı Mh.</td>\n",
       "      <td>95 m2</td>\n",
       "      <td>Daire</td>\n",
       "      <td>6 Mart</td>\n",
       "      <td>2+1</td>\n",
       "    </tr>\n",
       "    <tr>\n",
       "      <th>44</th>\n",
       "      <td>ESENYURT PINAR MH ESİLA KENT SİTESİ GİRİŞ KT 2...</td>\n",
       "      <td>9.000 TL</td>\n",
       "      <td>İstanbul - Esenyurt - Pınar Mh.</td>\n",
       "      <td>90 m2</td>\n",
       "      <td>Daire</td>\n",
       "      <td>9 Mart</td>\n",
       "      <td>2+1</td>\n",
       "    </tr>\n",
       "    <tr>\n",
       "      <th>45</th>\n",
       "      <td>ESENYURT SULTANİYE MH 1 DEPOZİTO EŞYASI SIFIR...</td>\n",
       "      <td>15.000 TL</td>\n",
       "      <td>İstanbul - Esenyurt - Yunus Emre Mh.</td>\n",
       "      <td>96 m2</td>\n",
       "      <td>Daire</td>\n",
       "      <td>9 Mart</td>\n",
       "      <td>2+1</td>\n",
       "    </tr>\n",
       "    <tr>\n",
       "      <th>46</th>\n",
       "      <td>BEYLKDÜZÜ GÜRPINAR KONAKLARINDA DENİZ HAVUZ M...</td>\n",
       "      <td>25.000 TL</td>\n",
       "      <td>İstanbul - Beylikdüzü - Gürpınar Mh.</td>\n",
       "      <td>160 m2</td>\n",
       "      <td>Daire</td>\n",
       "      <td>9 Mart</td>\n",
       "      <td>3+1</td>\n",
       "    </tr>\n",
       "    <tr>\n",
       "      <th>47</th>\n",
       "      <td>YENİBOSNA KİRALIK 2+1 3,KAT GÜNEY CEPHE</td>\n",
       "      <td>14.000 TL</td>\n",
       "      <td>İstanbul - Bahçelievler - Yenibosna Merkez Mh.</td>\n",
       "      <td>100 m2</td>\n",
       "      <td>Daire</td>\n",
       "      <td>9 Mart</td>\n",
       "      <td>2+1</td>\n",
       "    </tr>\n",
       "    <tr>\n",
       "      <th>48</th>\n",
       "      <td>MALLOF İSTANBUL ARENAPARK 212 AVM YANINDA | LÜ...</td>\n",
       "      <td>199 TL</td>\n",
       "      <td>İstanbul - Başakşehir - İkitelli OSB Mh.</td>\n",
       "      <td>50 m2</td>\n",
       "      <td>Daire</td>\n",
       "      <td>9 Mart</td>\n",
       "      <td>Stüdyo</td>\n",
       "    </tr>\n",
       "    <tr>\n",
       "      <th>49</th>\n",
       "      <td>YENİBOSNA KİRALIK 2+1 3,KAT GÜNEY CEPHE</td>\n",
       "      <td>14.000 TL</td>\n",
       "      <td>İstanbul - Bahçelievler - Zafer Mh.</td>\n",
       "      <td>100 m2</td>\n",
       "      <td>Daire</td>\n",
       "      <td>9 Mart</td>\n",
       "      <td>2+1</td>\n",
       "    </tr>\n",
       "  </tbody>\n",
       "</table>\n",
       "</div>"
      ],
      "text/plain": [
       "                                             İlan Adı İlan Fiyatı  \\\n",
       "0                          Esenyurt RÜYA YAŞAM SİTESI   12.000 TL   \n",
       "1                              2+1 kiralık bahçe katı    9.000 TL   \n",
       "2   ESENYURT PİRİ REİS MH GÜMÜŞ REFERANS İÇİ YAPIL...   13.000 TL   \n",
       "3    IMTILAA GAYRİMENKUL DEN Fİ YAKA SİTESİ 3+1 12...   15.000 TL   \n",
       "4   KRAL 34 GAYRİMENKUL DEN  60M1 1+1 KAT. 3  KİRA...   10.000 TL   \n",
       "5                   KADIKÖY MODA DA 2 ARTI 1 KİRAL...   25.000 TL   \n",
       "6     Avcilar cihangir mahallesinde kiralik 2+1 daire   14.000 TL   \n",
       "7   ZAFER YAPI GAYRİMENKUL'DEN KİRALIK BAHÇE KAT D...    9.000 TL   \n",
       "8   DAMAS 34 TAN BULVAR İSTANBUL REZİDANS TE KİRAL...   40.000 TL   \n",
       "9    ÇUKURBOSTAN PARKI’NIN KARŞISINDA YÜKSEK GİRİŞ...   14.000 TL   \n",
       "10  İNVESTMENT WORLD DEN BEYKOZ SOĞUKSU MAHALLESİN...   18.000 TL   \n",
       "11  ATABAY EMLAK’TAN ESENYURT İNÖNÜ MAH MEYDANA YA...   12.500 TL   \n",
       "12            2+1 köprü şehir ve yeşil alan manzaralı   18.000 TL   \n",
       "13   BEYLİKDÜZÜ ADNANKAHVECİ MH DENİZ GÖL MANZARAL...   20.000 TL   \n",
       "14  Büyükçekmece Tepecik Ulus Mahallesi'nde kiralı...    9.500 TL   \n",
       "15   ESENYURT PİRİ REİS MH DELTA TOVERS 1.5+1 GÜVE...   10.000 TL   \n",
       "16   ESENYURT YEŞİLKENT MH MERKEZİ KONUMDA YENİ Bİ...   10.000 TL   \n",
       "17                 HÜRRİYETTE KİRALIK 3+1 3.KAT DAİRE   13.000 TL   \n",
       "18  ŞİRİNEVLER DE EŞYALI KİRALIK DAİRE TERAS KAT M...   12.000 TL   \n",
       "19   Halkalı Atakent Avrupa 2 kiralık 1+1 büyük daire   25.000 TL   \n",
       "20   GÜZELYURT DURAĞI YANINDA ASTON PLAZADA KISA/U...   16.500 TL   \n",
       "21   ESENYURT TALATPAŞADA FULL EŞYALI KİRALIK 3+1 ...   10.000 TL   \n",
       "22   SOĞANLI MEYDAN YAKINI 3+1 4.KAT MASRAFSIZ KİR...   13.000 TL   \n",
       "23   ESENYURT KILIÇ TOWERS 2+1 BALKONLU LÜX KİRALI...   10.000 TL   \n",
       "24  ÜMRANİYE ÇAMLIK İKBAL CADDESİ ÜZERİNDE MERKEZİ...   11.000 TL   \n",
       "25           Hülya Emlak'tan 2+1 Eşyalı Kiralık Daire   22.000 TL   \n",
       "26     KÜÇÜKKÖY YENİ MAHALLE KİRALIK 1+1  GİRİŞ DAİRE   13.000 TL   \n",
       "27   TAKSIM,TEPEBAŞI 1+0 1+1 2+1 LUKS TEMIZ GUNLUK...      150 TL   \n",
       "28   BÜYÜKÇEKEMCE PINARTEPE MH DEMİR KONAKLARINDA ...   20.000 TL   \n",
       "29   ESENYURT TURGUT ÖZAL MAHALLESİ 3+1 KİRALIK DA...   13.000 TL   \n",
       "30  BEYLİKDÜZÜ KAVAKLIDA ESTON REŞİTPAŞA 1.KISIM 2...   16.000 TL   \n",
       "31   ŞAHANE YAPI'DAN METROBÜSE 5 DK UZAKLIKTA ARAK...   16.000 TL   \n",
       "32  KADIKÖY MERKEZDE LÜKS 1+0 YENİ EŞYALI ARAKAT Ç...   15.000 TL   \n",
       "33  YELDEĞİRMENİ VE SÖĞÜTLÜÇEŞME ARASINDA YEPYENİ ...   19.000 TL   \n",
       "34  Yıldız Emlak tan-7 bin tl - Pasa meydana 3 dk-...    7.000 TL   \n",
       "35  zirvem emlak tan çağlayan mah kiralık 1 X1 sob...    8.000 TL   \n",
       "36  MALLOF İSTANBUL ARENAPARK 212 AVM YANINDA | LÜ...      199 TL   \n",
       "37  Arnavutköy HAVAKENT SİTESİNDE LÜX SIFIR Eşyalı...   18.400 TL   \n",
       "38  ASGOLD'DAN MURATÇEŞMEDE E 5 YAKIN KİRALIK MANZ...   18.500 TL   \n",
       "39  MİMARSİNAN KİPTAŞ EVLERİNDE KİRALIK 2+1 TERTEM...   11.000 TL   \n",
       "40  ASGOLD'DAN TEPECİK HAMAM CADDESİNDE KİRALIK 2+...   11.500 TL   \n",
       "41     TA GAYRIMENKUL'DEN MANZARALI KİRALİK 3+1 Daire   16.000 TL   \n",
       "42  ARENAPARK AVM MALLOF HALKALI ATEKENT İKİTELLİ ...      199 TL   \n",
       "43                   Kombili doğalgazlı bahçeli daire    8.500 TL   \n",
       "44  ESENYURT PINAR MH ESİLA KENT SİTESİ GİRİŞ KT 2...    9.000 TL   \n",
       "45   ESENYURT SULTANİYE MH 1 DEPOZİTO EŞYASI SIFIR...   15.000 TL   \n",
       "46   BEYLKDÜZÜ GÜRPINAR KONAKLARINDA DENİZ HAVUZ M...   25.000 TL   \n",
       "47            YENİBOSNA KİRALIK 2+1 3,KAT GÜNEY CEPHE   14.000 TL   \n",
       "48  MALLOF İSTANBUL ARENAPARK 212 AVM YANINDA | LÜ...      199 TL   \n",
       "49            YENİBOSNA KİRALIK 2+1 3,KAT GÜNEY CEPHE   14.000 TL   \n",
       "\n",
       "                                        Adres bilgisi Konut büyüklüğü  \\\n",
       "0   İstanbul - Esenyurt - Barbaros Hayrettin Paşa Mh.           65 m2   \n",
       "1            İstanbul - Başakşehir - Güvercintepe Mh.           85 m2   \n",
       "2                 İstanbul - Esenyurt - Piri Reis Mh.           90 m2   \n",
       "3                     İstanbul - Esenyurt - Çınar Mh.          135 m2   \n",
       "4            İstanbul - Güngören - Mareşal Çakmak Mh.           75 m2   \n",
       "5                   İstanbul - Kadıköy - Caferağa Mh.          100 m2   \n",
       "6                   İstanbul - Avcılar - Cihangir Mh.          110 m2   \n",
       "7                 İstanbul - Sultangazi - 50. Yıl Mh.           95 m2   \n",
       "8              İstanbul - Başakşehir - Başakşehir Mh.          215 m2   \n",
       "9                  İstanbul - Fatih - Seyyid Ömer Mh.           60 m2   \n",
       "10                    İstanbul - Beykoz - Soğuksu Mh.          120 m2   \n",
       "11                    İstanbul - Esenyurt - İnönü Mh.          120 m2   \n",
       "12                     İstanbul - Sarıyer - Pınar Mh.          110 m2   \n",
       "13            İstanbul - Büyükçekmece - Pınartepe Mh.          150 m2   \n",
       "14                 İstanbul - Büyükçekmece - Ulus Mh.          110 m2   \n",
       "15                İstanbul - Esenyurt - Piri Reis Mh.           75 m2   \n",
       "16                İstanbul - Esenyurt - Yeşilkent Mh.           90 m2   \n",
       "17                 İstanbul - Bağcılar - Hürriyet Mh.          115 m2   \n",
       "18             İstanbul - Bahçelievler - Hürriyet Mh.           90 m2   \n",
       "19              İstanbul - Küçükçekmece - Atakent Mh.          103 m2   \n",
       "20                İstanbul - Beylikdüzü - Yakuplu Mh.           55 m2   \n",
       "21                İstanbul - Esenyurt - Talatpaşa Mh.          145 m2   \n",
       "22              İstanbul - Bahçelievler - Soğanlı Mh.          120 m2   \n",
       "23                İstanbul - Esenyurt - Talatpaşa Mh.          135 m2   \n",
       "24                   İstanbul - Ümraniye - Çamlık Mh.           85 m2   \n",
       "25                    İstanbul - Şişli - Gülbahar Mh.          110 m2   \n",
       "26        İstanbul - Gaziosmanpaşa - Yeni Mahalle Mh.           70 m2   \n",
       "27               İstanbul - Beyoğlu - Kamer Hatun Mh.           40 m2   \n",
       "28            İstanbul - Büyükçekmece - Pınartepe Mh.          150 m2   \n",
       "29              İstanbul - Esenyurt - Turgut Özal Mh.          140 m2   \n",
       "30                İstanbul - Beylikdüzü - Kavaklı Mh.           96 m2   \n",
       "31        İstanbul - Esenyurt - Mehmet Akif Ersoy Mh.          110 m2   \n",
       "32                  İstanbul - Kadıköy - Osmanağa Mh.           45 m2   \n",
       "33                 İstanbul - Kadıköy - Rasimpaşa Mh.           95 m2   \n",
       "34            İstanbul - Fatih - Koca Mustafapaşa Mh.           60 m2   \n",
       "35                İstanbul - Kağıthane - Çağlayan Mh.           65 m2   \n",
       "36           İstanbul - Başakşehir - İkitelli OSB Mh.           50 m2   \n",
       "37   İstanbul - Arnavutköy - Mareşal Fevzi Çakmak Mh.          100 m2   \n",
       "38          İstanbul - Büyükçekmece - Murat Çeşme Mh.          170 m2   \n",
       "39          İstanbul - Büyükçekmece - Murat Çeşme Mh.           80 m2   \n",
       "40                 İstanbul - Büyükçekmece - Ulus Mh.           85 m2   \n",
       "41           İstanbul - Küçükçekmece - Cumhuriyet Mh.          120 m2   \n",
       "42              İstanbul - Küçükçekmece - Atakent Mh.           50 m2   \n",
       "43                 İstanbul - Ümraniye - Topağacı Mh.           95 m2   \n",
       "44                    İstanbul - Esenyurt - Pınar Mh.           90 m2   \n",
       "45               İstanbul - Esenyurt - Yunus Emre Mh.           96 m2   \n",
       "46               İstanbul - Beylikdüzü - Gürpınar Mh.          160 m2   \n",
       "47     İstanbul - Bahçelievler - Yenibosna Merkez Mh.          100 m2   \n",
       "48           İstanbul - Başakşehir - İkitelli OSB Mh.           50 m2   \n",
       "49                İstanbul - Bahçelievler - Zafer Mh.          100 m2   \n",
       "\n",
       "   Konut tipi İlanın koyulma tarihi Oda sayısı  \n",
       "0       Villa                9 Mart        1+1  \n",
       "1       Daire                9 Mart        2+1  \n",
       "2       Daire                9 Mart        1+1  \n",
       "3       Daire                9 Mart        3+1  \n",
       "4       Daire                9 Mart        1+1  \n",
       "5       Daire                9 Mart        2+1  \n",
       "6       Daire                9 Mart        2+1  \n",
       "7       Daire                8 Mart        2+1  \n",
       "8       Daire                8 Mart        4+1  \n",
       "9       Daire                8 Mart        1+1  \n",
       "10      Daire                9 Mart        2+2  \n",
       "11      Daire                8 Mart        3+1  \n",
       "12      Daire                8 Mart        2+1  \n",
       "13      Daire                9 Mart        3+1  \n",
       "14      Daire                9 Mart        2+1  \n",
       "15  Residence                9 Mart      1.5+1  \n",
       "16      Daire                9 Mart        2+1  \n",
       "17      Daire                8 Mart        3+1  \n",
       "18      Daire                8 Mart        2+1  \n",
       "19      Daire                9 Mart        1+1  \n",
       "20      Daire                9 Mart        1+1  \n",
       "21      Daire                7 Mart        3+1  \n",
       "22      Daire                7 Mart        2+1  \n",
       "23      Daire                7 Mart        2+1  \n",
       "24      Daire                7 Mart        2+1  \n",
       "25      Daire                7 Mart        2+1  \n",
       "26      Daire                7 Mart        1+1  \n",
       "27      Daire                9 Mart      1 Oda  \n",
       "28      Daire                9 Mart        3+1  \n",
       "29      Daire                7 Mart        3+1  \n",
       "30      Daire                9 Mart        2+1  \n",
       "31      Daire                9 Mart        2+1  \n",
       "32      Daire                7 Mart     Stüdyo  \n",
       "33      Daire                7 Mart        1+1  \n",
       "34      Daire                6 Mart        1+1  \n",
       "35      Daire                6 Mart        1+1  \n",
       "36      Daire                7 Mart     Stüdyo  \n",
       "37      Daire                8 Mart        2+1  \n",
       "38      Daire                6 Mart        3+2  \n",
       "39      Daire                6 Mart      2.5+1  \n",
       "40      Daire                6 Mart        2+1  \n",
       "41      Daire                7 Mart        3+1  \n",
       "42      Daire                9 Mart     Stüdyo  \n",
       "43      Daire                6 Mart        2+1  \n",
       "44      Daire                9 Mart        2+1  \n",
       "45      Daire                9 Mart        2+1  \n",
       "46      Daire                9 Mart        3+1  \n",
       "47      Daire                9 Mart        2+1  \n",
       "48      Daire                9 Mart     Stüdyo  \n",
       "49      Daire                9 Mart        2+1  "
      ]
     },
     "execution_count": 171,
     "metadata": {},
     "output_type": "execute_result"
    }
   ],
   "source": [
    "df.head(50)"
   ]
  },
  {
   "cell_type": "code",
   "execution_count": 172,
   "id": "4c6c95a6-a53a-455c-b929-0946da14218d",
   "metadata": {},
   "outputs": [
    {
     "name": "stdout",
     "output_type": "stream",
     "text": [
      "<class 'pandas.core.frame.DataFrame'>\n",
      "RangeIndex: 1500 entries, 0 to 1499\n",
      "Data columns (total 7 columns):\n",
      " #   Column                 Non-Null Count  Dtype \n",
      "---  ------                 --------------  ----- \n",
      " 0   İlan Adı               1500 non-null   object\n",
      " 1   İlan Fiyatı            1500 non-null   object\n",
      " 2   Adres bilgisi          1500 non-null   object\n",
      " 3   Konut büyüklüğü        1500 non-null   object\n",
      " 4   Konut tipi             1500 non-null   object\n",
      " 5   İlanın koyulma tarihi  1500 non-null   object\n",
      " 6   Oda sayısı             1500 non-null   object\n",
      "dtypes: object(7)\n",
      "memory usage: 82.2+ KB\n"
     ]
    }
   ],
   "source": [
    "df.info()"
   ]
  },
  {
   "cell_type": "code",
   "execution_count": 173,
   "id": "e8c2762b-8e92-4b19-9407-3afaa3aa9a84",
   "metadata": {},
   "outputs": [
    {
     "data": {
      "text/plain": [
       "False"
      ]
     },
     "execution_count": 173,
     "metadata": {},
     "output_type": "execute_result"
    }
   ],
   "source": [
    "df.isnull().values.any() #hiç eksik değerimiz yok"
   ]
  },
  {
   "cell_type": "code",
   "execution_count": 174,
   "id": "a5f688fe-ef75-4410-bcd4-da11a849efc9",
   "metadata": {},
   "outputs": [
    {
     "data": {
      "text/plain": [
       "array(['Villa', 'Daire', 'Residence', 'Bina', 'Müstakil Ev',\n",
       "       'Yalı Dairesi'], dtype=object)"
      ]
     },
     "execution_count": 174,
     "metadata": {},
     "output_type": "execute_result"
    }
   ],
   "source": [
    "df[\"Konut tipi\"].unique()"
   ]
  },
  {
   "cell_type": "code",
   "execution_count": 175,
   "id": "46434892-1339-4f68-a0fc-716f894ce638",
   "metadata": {},
   "outputs": [
    {
     "data": {
      "text/plain": [
       "472"
      ]
     },
     "execution_count": 175,
     "metadata": {},
     "output_type": "execute_result"
    }
   ],
   "source": [
    "len(df[\"Adres bilgisi\"].unique()) \n",
    "#çok fazla mahalleye ayrılıyor ve 1500 satır verimiz var bu yüzden doğrudan semt'e dayalı bir tahmin yapacağım"
   ]
  },
  {
   "cell_type": "code",
   "execution_count": 176,
   "id": "fecf9da8-32e9-40f8-a831-019ff7aaa590",
   "metadata": {},
   "outputs": [],
   "source": [
    "#semtlere göre ayrıralım , #fiyatlardaki 'TL' bilgisini kaldıralm , m2 ekini kaldıralım\n",
    "semt_listesi=[]\n",
    "ilan_fiyati=[]\n",
    "konut_buyuklugu=[]\n",
    "for a,b,c in zip(df[\"Adres bilgisi\"],df[\"Konut büyüklüğü\"],df[\"İlan Fiyatı\"]):\n",
    "    semt_listesi.append((a.split(\"-\"))[1])\n",
    "    konut_buyuklugu.append(b.replace(\"m2\",\"\"))\n",
    "    ilan_fiyati.append(c.replace(\"TL\",\"\").strip())\n",
    "    \n",
    "df[\"Adres bilgisi\"]=semt_listesi\n",
    "df[\"Konut büyüklüğü\"]=konut_buyuklugu\n",
    "df[\"İlan Fiyatı\"]=ilan_fiyati"
   ]
  },
  {
   "cell_type": "code",
   "execution_count": 177,
   "id": "24a700a3-ce5b-492b-a687-3c54fb872583",
   "metadata": {},
   "outputs": [
    {
     "data": {
      "text/html": [
       "<div>\n",
       "<style scoped>\n",
       "    .dataframe tbody tr th:only-of-type {\n",
       "        vertical-align: middle;\n",
       "    }\n",
       "\n",
       "    .dataframe tbody tr th {\n",
       "        vertical-align: top;\n",
       "    }\n",
       "\n",
       "    .dataframe thead th {\n",
       "        text-align: right;\n",
       "    }\n",
       "</style>\n",
       "<table border=\"1\" class=\"dataframe\">\n",
       "  <thead>\n",
       "    <tr style=\"text-align: right;\">\n",
       "      <th></th>\n",
       "      <th>İlan Adı</th>\n",
       "      <th>İlan Fiyatı</th>\n",
       "      <th>Adres bilgisi</th>\n",
       "      <th>Konut büyüklüğü</th>\n",
       "      <th>Konut tipi</th>\n",
       "      <th>İlanın koyulma tarihi</th>\n",
       "      <th>Oda sayısı</th>\n",
       "    </tr>\n",
       "  </thead>\n",
       "  <tbody>\n",
       "    <tr>\n",
       "      <th>0</th>\n",
       "      <td>Esenyurt RÜYA YAŞAM SİTESI</td>\n",
       "      <td>12.000</td>\n",
       "      <td>Esenyurt</td>\n",
       "      <td>65</td>\n",
       "      <td>Villa</td>\n",
       "      <td>9 Mart</td>\n",
       "      <td>1+1</td>\n",
       "    </tr>\n",
       "    <tr>\n",
       "      <th>1</th>\n",
       "      <td>2+1 kiralık bahçe katı</td>\n",
       "      <td>9.000</td>\n",
       "      <td>Başakşehir</td>\n",
       "      <td>85</td>\n",
       "      <td>Daire</td>\n",
       "      <td>9 Mart</td>\n",
       "      <td>2+1</td>\n",
       "    </tr>\n",
       "    <tr>\n",
       "      <th>2</th>\n",
       "      <td>ESENYURT PİRİ REİS MH GÜMÜŞ REFERANS İÇİ YAPIL...</td>\n",
       "      <td>13.000</td>\n",
       "      <td>Esenyurt</td>\n",
       "      <td>90</td>\n",
       "      <td>Daire</td>\n",
       "      <td>9 Mart</td>\n",
       "      <td>1+1</td>\n",
       "    </tr>\n",
       "    <tr>\n",
       "      <th>3</th>\n",
       "      <td>IMTILAA GAYRİMENKUL DEN Fİ YAKA SİTESİ 3+1 12...</td>\n",
       "      <td>15.000</td>\n",
       "      <td>Esenyurt</td>\n",
       "      <td>135</td>\n",
       "      <td>Daire</td>\n",
       "      <td>9 Mart</td>\n",
       "      <td>3+1</td>\n",
       "    </tr>\n",
       "    <tr>\n",
       "      <th>4</th>\n",
       "      <td>KRAL 34 GAYRİMENKUL DEN  60M1 1+1 KAT. 3  KİRA...</td>\n",
       "      <td>10.000</td>\n",
       "      <td>Güngören</td>\n",
       "      <td>75</td>\n",
       "      <td>Daire</td>\n",
       "      <td>9 Mart</td>\n",
       "      <td>1+1</td>\n",
       "    </tr>\n",
       "    <tr>\n",
       "      <th>5</th>\n",
       "      <td>KADIKÖY MODA DA 2 ARTI 1 KİRAL...</td>\n",
       "      <td>25.000</td>\n",
       "      <td>Kadıköy</td>\n",
       "      <td>100</td>\n",
       "      <td>Daire</td>\n",
       "      <td>9 Mart</td>\n",
       "      <td>2+1</td>\n",
       "    </tr>\n",
       "    <tr>\n",
       "      <th>6</th>\n",
       "      <td>Avcilar cihangir mahallesinde kiralik 2+1 daire</td>\n",
       "      <td>14.000</td>\n",
       "      <td>Avcılar</td>\n",
       "      <td>110</td>\n",
       "      <td>Daire</td>\n",
       "      <td>9 Mart</td>\n",
       "      <td>2+1</td>\n",
       "    </tr>\n",
       "    <tr>\n",
       "      <th>7</th>\n",
       "      <td>ZAFER YAPI GAYRİMENKUL'DEN KİRALIK BAHÇE KAT D...</td>\n",
       "      <td>9.000</td>\n",
       "      <td>Sultangazi</td>\n",
       "      <td>95</td>\n",
       "      <td>Daire</td>\n",
       "      <td>8 Mart</td>\n",
       "      <td>2+1</td>\n",
       "    </tr>\n",
       "    <tr>\n",
       "      <th>8</th>\n",
       "      <td>DAMAS 34 TAN BULVAR İSTANBUL REZİDANS TE KİRAL...</td>\n",
       "      <td>40.000</td>\n",
       "      <td>Başakşehir</td>\n",
       "      <td>215</td>\n",
       "      <td>Daire</td>\n",
       "      <td>8 Mart</td>\n",
       "      <td>4+1</td>\n",
       "    </tr>\n",
       "    <tr>\n",
       "      <th>9</th>\n",
       "      <td>ÇUKURBOSTAN PARKI’NIN KARŞISINDA YÜKSEK GİRİŞ...</td>\n",
       "      <td>14.000</td>\n",
       "      <td>Fatih</td>\n",
       "      <td>60</td>\n",
       "      <td>Daire</td>\n",
       "      <td>8 Mart</td>\n",
       "      <td>1+1</td>\n",
       "    </tr>\n",
       "  </tbody>\n",
       "</table>\n",
       "</div>"
      ],
      "text/plain": [
       "                                            İlan Adı İlan Fiyatı  \\\n",
       "0                         Esenyurt RÜYA YAŞAM SİTESI      12.000   \n",
       "1                             2+1 kiralık bahçe katı       9.000   \n",
       "2  ESENYURT PİRİ REİS MH GÜMÜŞ REFERANS İÇİ YAPIL...      13.000   \n",
       "3   IMTILAA GAYRİMENKUL DEN Fİ YAKA SİTESİ 3+1 12...      15.000   \n",
       "4  KRAL 34 GAYRİMENKUL DEN  60M1 1+1 KAT. 3  KİRA...      10.000   \n",
       "5                  KADIKÖY MODA DA 2 ARTI 1 KİRAL...      25.000   \n",
       "6    Avcilar cihangir mahallesinde kiralik 2+1 daire      14.000   \n",
       "7  ZAFER YAPI GAYRİMENKUL'DEN KİRALIK BAHÇE KAT D...       9.000   \n",
       "8  DAMAS 34 TAN BULVAR İSTANBUL REZİDANS TE KİRAL...      40.000   \n",
       "9   ÇUKURBOSTAN PARKI’NIN KARŞISINDA YÜKSEK GİRİŞ...      14.000   \n",
       "\n",
       "  Adres bilgisi Konut büyüklüğü Konut tipi İlanın koyulma tarihi Oda sayısı  \n",
       "0     Esenyurt              65       Villa                9 Mart        1+1  \n",
       "1   Başakşehir              85       Daire                9 Mart        2+1  \n",
       "2     Esenyurt              90       Daire                9 Mart        1+1  \n",
       "3     Esenyurt             135       Daire                9 Mart        3+1  \n",
       "4     Güngören              75       Daire                9 Mart        1+1  \n",
       "5      Kadıköy             100       Daire                9 Mart        2+1  \n",
       "6      Avcılar             110       Daire                9 Mart        2+1  \n",
       "7   Sultangazi              95       Daire                8 Mart        2+1  \n",
       "8   Başakşehir             215       Daire                8 Mart        4+1  \n",
       "9        Fatih              60       Daire                8 Mart        1+1  "
      ]
     },
     "execution_count": 177,
     "metadata": {},
     "output_type": "execute_result"
    }
   ],
   "source": [
    "df.head(10)"
   ]
  },
  {
   "cell_type": "code",
   "execution_count": 178,
   "id": "f2e09806-88fc-4d6c-8d73-d39aeffa02b6",
   "metadata": {},
   "outputs": [
    {
     "data": {
      "text/plain": [
       "İlan Fiyatı\n",
       "False    1500\n",
       "Name: count, dtype: int64"
      ]
     },
     "execution_count": 178,
     "metadata": {},
     "output_type": "execute_result"
    }
   ],
   "source": [
    "(df[\"İlan Fiyatı\"]==None).value_counts() #hiç kayıp değerimiz yok"
   ]
  },
  {
   "cell_type": "code",
   "execution_count": 179,
   "id": "5300a381-e0ae-4d81-9922-ee9b7c36dbfe",
   "metadata": {},
   "outputs": [],
   "source": [
    "df[\"Konut büyüklüğü\"]=df[\"Konut büyüklüğü\"].astype(\"int64\") #sürekli değişken türüne dönüştürelim"
   ]
  },
  {
   "cell_type": "code",
   "execution_count": 180,
   "id": "f19dd21b-c531-432f-a968-ce79df6086f3",
   "metadata": {},
   "outputs": [],
   "source": [
    "df[\"İlan Fiyatı\"]=df[\"İlan Fiyatı\"].str.replace(\".\",\"\").astype(\"int64\") #sürekli değişken türüne dönüştürelim"
   ]
  },
  {
   "cell_type": "code",
   "execution_count": 181,
   "id": "6c1fcebc-ab76-4798-b7e2-a3c65732bcd2",
   "metadata": {},
   "outputs": [
    {
     "name": "stdout",
     "output_type": "stream",
     "text": [
      "<class 'pandas.core.frame.DataFrame'>\n",
      "RangeIndex: 1500 entries, 0 to 1499\n",
      "Data columns (total 7 columns):\n",
      " #   Column                 Non-Null Count  Dtype \n",
      "---  ------                 --------------  ----- \n",
      " 0   İlan Adı               1500 non-null   object\n",
      " 1   İlan Fiyatı            1500 non-null   int64 \n",
      " 2   Adres bilgisi          1500 non-null   object\n",
      " 3   Konut büyüklüğü        1500 non-null   int64 \n",
      " 4   Konut tipi             1500 non-null   object\n",
      " 5   İlanın koyulma tarihi  1500 non-null   object\n",
      " 6   Oda sayısı             1500 non-null   object\n",
      "dtypes: int64(2), object(5)\n",
      "memory usage: 82.2+ KB\n"
     ]
    }
   ],
   "source": [
    "df.info()"
   ]
  },
  {
   "cell_type": "code",
   "execution_count": 182,
   "id": "76a45601-97fd-41b8-9498-ebd06ce2ead4",
   "metadata": {},
   "outputs": [
    {
     "data": {
      "text/html": [
       "<div>\n",
       "<style scoped>\n",
       "    .dataframe tbody tr th:only-of-type {\n",
       "        vertical-align: middle;\n",
       "    }\n",
       "\n",
       "    .dataframe tbody tr th {\n",
       "        vertical-align: top;\n",
       "    }\n",
       "\n",
       "    .dataframe thead th {\n",
       "        text-align: right;\n",
       "    }\n",
       "</style>\n",
       "<table border=\"1\" class=\"dataframe\">\n",
       "  <thead>\n",
       "    <tr style=\"text-align: right;\">\n",
       "      <th></th>\n",
       "      <th>İlan Adı</th>\n",
       "      <th>İlan Fiyatı</th>\n",
       "      <th>Adres bilgisi</th>\n",
       "      <th>Konut büyüklüğü</th>\n",
       "      <th>Konut tipi</th>\n",
       "      <th>İlanın koyulma tarihi</th>\n",
       "      <th>Oda sayısı</th>\n",
       "    </tr>\n",
       "  </thead>\n",
       "  <tbody>\n",
       "    <tr>\n",
       "      <th>0</th>\n",
       "      <td>Esenyurt RÜYA YAŞAM SİTESI</td>\n",
       "      <td>12000</td>\n",
       "      <td>Esenyurt</td>\n",
       "      <td>65</td>\n",
       "      <td>Villa</td>\n",
       "      <td>9 Mart</td>\n",
       "      <td>1+1</td>\n",
       "    </tr>\n",
       "    <tr>\n",
       "      <th>1</th>\n",
       "      <td>2+1 kiralık bahçe katı</td>\n",
       "      <td>9000</td>\n",
       "      <td>Başakşehir</td>\n",
       "      <td>85</td>\n",
       "      <td>Daire</td>\n",
       "      <td>9 Mart</td>\n",
       "      <td>2+1</td>\n",
       "    </tr>\n",
       "    <tr>\n",
       "      <th>2</th>\n",
       "      <td>ESENYURT PİRİ REİS MH GÜMÜŞ REFERANS İÇİ YAPIL...</td>\n",
       "      <td>13000</td>\n",
       "      <td>Esenyurt</td>\n",
       "      <td>90</td>\n",
       "      <td>Daire</td>\n",
       "      <td>9 Mart</td>\n",
       "      <td>1+1</td>\n",
       "    </tr>\n",
       "    <tr>\n",
       "      <th>3</th>\n",
       "      <td>IMTILAA GAYRİMENKUL DEN Fİ YAKA SİTESİ 3+1 12...</td>\n",
       "      <td>15000</td>\n",
       "      <td>Esenyurt</td>\n",
       "      <td>135</td>\n",
       "      <td>Daire</td>\n",
       "      <td>9 Mart</td>\n",
       "      <td>3+1</td>\n",
       "    </tr>\n",
       "    <tr>\n",
       "      <th>4</th>\n",
       "      <td>KRAL 34 GAYRİMENKUL DEN  60M1 1+1 KAT. 3  KİRA...</td>\n",
       "      <td>10000</td>\n",
       "      <td>Güngören</td>\n",
       "      <td>75</td>\n",
       "      <td>Daire</td>\n",
       "      <td>9 Mart</td>\n",
       "      <td>1+1</td>\n",
       "    </tr>\n",
       "    <tr>\n",
       "      <th>5</th>\n",
       "      <td>KADIKÖY MODA DA 2 ARTI 1 KİRAL...</td>\n",
       "      <td>25000</td>\n",
       "      <td>Kadıköy</td>\n",
       "      <td>100</td>\n",
       "      <td>Daire</td>\n",
       "      <td>9 Mart</td>\n",
       "      <td>2+1</td>\n",
       "    </tr>\n",
       "    <tr>\n",
       "      <th>6</th>\n",
       "      <td>Avcilar cihangir mahallesinde kiralik 2+1 daire</td>\n",
       "      <td>14000</td>\n",
       "      <td>Avcılar</td>\n",
       "      <td>110</td>\n",
       "      <td>Daire</td>\n",
       "      <td>9 Mart</td>\n",
       "      <td>2+1</td>\n",
       "    </tr>\n",
       "    <tr>\n",
       "      <th>7</th>\n",
       "      <td>ZAFER YAPI GAYRİMENKUL'DEN KİRALIK BAHÇE KAT D...</td>\n",
       "      <td>9000</td>\n",
       "      <td>Sultangazi</td>\n",
       "      <td>95</td>\n",
       "      <td>Daire</td>\n",
       "      <td>8 Mart</td>\n",
       "      <td>2+1</td>\n",
       "    </tr>\n",
       "    <tr>\n",
       "      <th>8</th>\n",
       "      <td>DAMAS 34 TAN BULVAR İSTANBUL REZİDANS TE KİRAL...</td>\n",
       "      <td>40000</td>\n",
       "      <td>Başakşehir</td>\n",
       "      <td>215</td>\n",
       "      <td>Daire</td>\n",
       "      <td>8 Mart</td>\n",
       "      <td>4+1</td>\n",
       "    </tr>\n",
       "    <tr>\n",
       "      <th>9</th>\n",
       "      <td>ÇUKURBOSTAN PARKI’NIN KARŞISINDA YÜKSEK GİRİŞ...</td>\n",
       "      <td>14000</td>\n",
       "      <td>Fatih</td>\n",
       "      <td>60</td>\n",
       "      <td>Daire</td>\n",
       "      <td>8 Mart</td>\n",
       "      <td>1+1</td>\n",
       "    </tr>\n",
       "  </tbody>\n",
       "</table>\n",
       "</div>"
      ],
      "text/plain": [
       "                                            İlan Adı  İlan Fiyatı  \\\n",
       "0                         Esenyurt RÜYA YAŞAM SİTESI        12000   \n",
       "1                             2+1 kiralık bahçe katı         9000   \n",
       "2  ESENYURT PİRİ REİS MH GÜMÜŞ REFERANS İÇİ YAPIL...        13000   \n",
       "3   IMTILAA GAYRİMENKUL DEN Fİ YAKA SİTESİ 3+1 12...        15000   \n",
       "4  KRAL 34 GAYRİMENKUL DEN  60M1 1+1 KAT. 3  KİRA...        10000   \n",
       "5                  KADIKÖY MODA DA 2 ARTI 1 KİRAL...        25000   \n",
       "6    Avcilar cihangir mahallesinde kiralik 2+1 daire        14000   \n",
       "7  ZAFER YAPI GAYRİMENKUL'DEN KİRALIK BAHÇE KAT D...         9000   \n",
       "8  DAMAS 34 TAN BULVAR İSTANBUL REZİDANS TE KİRAL...        40000   \n",
       "9   ÇUKURBOSTAN PARKI’NIN KARŞISINDA YÜKSEK GİRİŞ...        14000   \n",
       "\n",
       "  Adres bilgisi  Konut büyüklüğü Konut tipi İlanın koyulma tarihi Oda sayısı  \n",
       "0     Esenyurt                65      Villa                9 Mart        1+1  \n",
       "1   Başakşehir                85      Daire                9 Mart        2+1  \n",
       "2     Esenyurt                90      Daire                9 Mart        1+1  \n",
       "3     Esenyurt               135      Daire                9 Mart        3+1  \n",
       "4     Güngören                75      Daire                9 Mart        1+1  \n",
       "5      Kadıköy               100      Daire                9 Mart        2+1  \n",
       "6      Avcılar               110      Daire                9 Mart        2+1  \n",
       "7   Sultangazi                95      Daire                8 Mart        2+1  \n",
       "8   Başakşehir               215      Daire                8 Mart        4+1  \n",
       "9        Fatih                60      Daire                8 Mart        1+1  "
      ]
     },
     "execution_count": 182,
     "metadata": {},
     "output_type": "execute_result"
    }
   ],
   "source": [
    "df.head(10)"
   ]
  },
  {
   "cell_type": "code",
   "execution_count": 183,
   "id": "deddfae7-e616-49a7-8817-51812b6574af",
   "metadata": {},
   "outputs": [
    {
     "data": {
      "text/plain": [
       "array(['1+1', '2+1', '3+1', '4+1', '2+2', '1.5+1', '1 Oda', 'Stüdyo',\n",
       "       '3+2', '2.5+1', '4+2', '3.5+1', '5+2', '5+1', '6+1', '6+2', '7+2'],\n",
       "      dtype=object)"
      ]
     },
     "execution_count": 183,
     "metadata": {},
     "output_type": "execute_result"
    }
   ],
   "source": [
    "df[\"Oda sayısı\"].unique() #benzersiz oda sayıları"
   ]
  },
  {
   "cell_type": "code",
   "execution_count": 184,
   "id": "c445787c-2e0b-473f-b3b8-a4f139e99bee",
   "metadata": {},
   "outputs": [
    {
     "data": {
      "text/plain": [
       "İlanın koyulma tarihi\n",
       "9 Mart       388\n",
       "8 Mart       255\n",
       "7 Mart       174\n",
       "6 Mart       141\n",
       "5 Mart       141\n",
       "4 Mart       110\n",
       "1 Mart        98\n",
       "2 Mart        69\n",
       "3 Mart        46\n",
       "29 Şubat      41\n",
       "19 Şubat       4\n",
       "18 Şubat       4\n",
       "27 Şubat       3\n",
       "17 Ocak        2\n",
       "20 Şubat       2\n",
       "7 Şubat        2\n",
       "28 Şubat       2\n",
       "26 Şubat       2\n",
       "21 Aralık      1\n",
       "14 Aralık      1\n",
       "22 Aralık      1\n",
       "23 Ocak        1\n",
       "26 Aralık      1\n",
       "29 Ocak        1\n",
       "14 Şubat       1\n",
       "24 Ocak        1\n",
       "26 Ocak        1\n",
       "27 Ocak        1\n",
       "28 Ocak        1\n",
       "31 Ocak        1\n",
       "15 Şubat       1\n",
       "22 Şubat       1\n",
       "23 Şubat       1\n",
       "4 Ocak         1\n",
       "Name: count, dtype: int64"
      ]
     },
     "execution_count": 184,
     "metadata": {},
     "output_type": "execute_result"
    }
   ],
   "source": [
    "df[\"İlanın koyulma tarihi\"].value_counts() \n",
    "#çok fazla benzersiz tarih var ancak modele etkisi yüksek olabilir eski koyulan ilanlarda fiyat düşmesi yaşanabilir.\n",
    "#eklenme tarihini bugünden çıkarıp kaç gün önce eklendiğini bulalım"
   ]
  },
  {
   "cell_type": "code",
   "execution_count": 185,
   "id": "18852e76-51ac-423d-9c14-e30863577513",
   "metadata": {},
   "outputs": [],
   "source": [
    "list=[]\n",
    "yeni_tarih=[]\n",
    "list=df[\"İlanın koyulma tarihi\"]\n",
    "for i in list:\n",
    "    if(i.split()[1]==\"Ocak\"):\n",
    "        ay=1\n",
    "        yeni_tarih.append((date(2024,3,10)-date(2024,ay,int(i.split()[0]))).days)\n",
    "    if(i.split()[1]==\"Şubat\"):\n",
    "        ay=2\n",
    "        yeni_tarih.append((date(2024,3,10)-date(2024,ay,int(i.split()[0]))).days)\n",
    "    if(i.split()[1]==\"Mart\"):\n",
    "        ay=3\n",
    "        yeni_tarih.append((date(2024,3,10)-date(2024,ay,int(i.split()[0]))).days)\n",
    "    if(i.split()[1]==\"Aralık\"):\n",
    "        ay=12\n",
    "        yeni_tarih.append((date(2024,3,10)-date(2023,ay,int(i.split()[0]))).days)"
   ]
  },
  {
   "cell_type": "code",
   "execution_count": 186,
   "id": "84403c6f-ee9d-4241-b2a2-d8ddba783b97",
   "metadata": {},
   "outputs": [],
   "source": [
    "df[\"İlanın koyulma tarihi\"]=yeni_tarih"
   ]
  },
  {
   "cell_type": "code",
   "execution_count": 187,
   "id": "cf0860c4-2e8d-405c-a9d2-8872c0c822c6",
   "metadata": {},
   "outputs": [
    {
     "data": {
      "text/html": [
       "<div>\n",
       "<style scoped>\n",
       "    .dataframe tbody tr th:only-of-type {\n",
       "        vertical-align: middle;\n",
       "    }\n",
       "\n",
       "    .dataframe tbody tr th {\n",
       "        vertical-align: top;\n",
       "    }\n",
       "\n",
       "    .dataframe thead th {\n",
       "        text-align: right;\n",
       "    }\n",
       "</style>\n",
       "<table border=\"1\" class=\"dataframe\">\n",
       "  <thead>\n",
       "    <tr style=\"text-align: right;\">\n",
       "      <th></th>\n",
       "      <th>İlan Adı</th>\n",
       "      <th>İlan Fiyatı</th>\n",
       "      <th>Adres bilgisi</th>\n",
       "      <th>Konut büyüklüğü</th>\n",
       "      <th>Konut tipi</th>\n",
       "      <th>İlanın koyulma tarihi</th>\n",
       "      <th>Oda sayısı</th>\n",
       "    </tr>\n",
       "  </thead>\n",
       "  <tbody>\n",
       "    <tr>\n",
       "      <th>0</th>\n",
       "      <td>Esenyurt RÜYA YAŞAM SİTESI</td>\n",
       "      <td>12000</td>\n",
       "      <td>Esenyurt</td>\n",
       "      <td>65</td>\n",
       "      <td>Villa</td>\n",
       "      <td>1</td>\n",
       "      <td>1+1</td>\n",
       "    </tr>\n",
       "    <tr>\n",
       "      <th>1</th>\n",
       "      <td>2+1 kiralık bahçe katı</td>\n",
       "      <td>9000</td>\n",
       "      <td>Başakşehir</td>\n",
       "      <td>85</td>\n",
       "      <td>Daire</td>\n",
       "      <td>1</td>\n",
       "      <td>2+1</td>\n",
       "    </tr>\n",
       "    <tr>\n",
       "      <th>2</th>\n",
       "      <td>ESENYURT PİRİ REİS MH GÜMÜŞ REFERANS İÇİ YAPIL...</td>\n",
       "      <td>13000</td>\n",
       "      <td>Esenyurt</td>\n",
       "      <td>90</td>\n",
       "      <td>Daire</td>\n",
       "      <td>1</td>\n",
       "      <td>1+1</td>\n",
       "    </tr>\n",
       "    <tr>\n",
       "      <th>3</th>\n",
       "      <td>IMTILAA GAYRİMENKUL DEN Fİ YAKA SİTESİ 3+1 12...</td>\n",
       "      <td>15000</td>\n",
       "      <td>Esenyurt</td>\n",
       "      <td>135</td>\n",
       "      <td>Daire</td>\n",
       "      <td>1</td>\n",
       "      <td>3+1</td>\n",
       "    </tr>\n",
       "    <tr>\n",
       "      <th>4</th>\n",
       "      <td>KRAL 34 GAYRİMENKUL DEN  60M1 1+1 KAT. 3  KİRA...</td>\n",
       "      <td>10000</td>\n",
       "      <td>Güngören</td>\n",
       "      <td>75</td>\n",
       "      <td>Daire</td>\n",
       "      <td>1</td>\n",
       "      <td>1+1</td>\n",
       "    </tr>\n",
       "  </tbody>\n",
       "</table>\n",
       "</div>"
      ],
      "text/plain": [
       "                                            İlan Adı  İlan Fiyatı  \\\n",
       "0                         Esenyurt RÜYA YAŞAM SİTESI        12000   \n",
       "1                             2+1 kiralık bahçe katı         9000   \n",
       "2  ESENYURT PİRİ REİS MH GÜMÜŞ REFERANS İÇİ YAPIL...        13000   \n",
       "3   IMTILAA GAYRİMENKUL DEN Fİ YAKA SİTESİ 3+1 12...        15000   \n",
       "4  KRAL 34 GAYRİMENKUL DEN  60M1 1+1 KAT. 3  KİRA...        10000   \n",
       "\n",
       "  Adres bilgisi  Konut büyüklüğü Konut tipi  İlanın koyulma tarihi Oda sayısı  \n",
       "0     Esenyurt                65      Villa                      1        1+1  \n",
       "1   Başakşehir                85      Daire                      1        2+1  \n",
       "2     Esenyurt                90      Daire                      1        1+1  \n",
       "3     Esenyurt               135      Daire                      1        3+1  \n",
       "4     Güngören                75      Daire                      1        1+1  "
      ]
     },
     "execution_count": 187,
     "metadata": {},
     "output_type": "execute_result"
    }
   ],
   "source": [
    "df.head()"
   ]
  },
  {
   "cell_type": "code",
   "execution_count": 188,
   "id": "aa6b1a07-a51b-4677-b093-29e68c098ccb",
   "metadata": {},
   "outputs": [
    {
     "name": "stdout",
     "output_type": "stream",
     "text": [
      "<class 'pandas.core.frame.DataFrame'>\n",
      "RangeIndex: 1500 entries, 0 to 1499\n",
      "Data columns (total 7 columns):\n",
      " #   Column                 Non-Null Count  Dtype \n",
      "---  ------                 --------------  ----- \n",
      " 0   İlan Adı               1500 non-null   object\n",
      " 1   İlan Fiyatı            1500 non-null   int64 \n",
      " 2   Adres bilgisi          1500 non-null   object\n",
      " 3   Konut büyüklüğü        1500 non-null   int64 \n",
      " 4   Konut tipi             1500 non-null   object\n",
      " 5   İlanın koyulma tarihi  1500 non-null   int64 \n",
      " 6   Oda sayısı             1500 non-null   object\n",
      "dtypes: int64(3), object(4)\n",
      "memory usage: 82.2+ KB\n"
     ]
    }
   ],
   "source": [
    "df.info()"
   ]
  },
  {
   "cell_type": "markdown",
   "id": "37706ab4-38dc-4b11-bafe-2630f9c7582e",
   "metadata": {},
   "source": [
    "# Feature Engineering"
   ]
  },
  {
   "cell_type": "code",
   "execution_count": 189,
   "id": "cfef23e6-a796-408c-8b97-43bba6a02fe3",
   "metadata": {},
   "outputs": [],
   "source": [
    "#ilan_Adı sütunundan bilgiler elde etmemiz gerekiyor modele etkisi yüksek olabilir."
   ]
  },
  {
   "cell_type": "markdown",
   "id": "c722da6f-87d1-4ddb-a4e2-eda06dd8e959",
   "metadata": {},
   "source": [
    "# Boğaza yakınlık"
   ]
  },
  {
   "cell_type": "code",
   "execution_count": 190,
   "id": "94b9d8dd-3845-429d-b954-ea86791d8685",
   "metadata": {},
   "outputs": [],
   "source": [
    "def search_info_bogaz(info):\n",
    "    if(info.find(\"bogaz\")>=0 or info.find(\"boğaz\")>=0 or\n",
    "       info.find(\"Bogaz\")>=0 or info.find(\"Boğaz\")>=0 or\n",
    "       info.find(\"15Temmuz\")>=0 or info.find(\"15 temmuz\")>=0 or info.find(\"sahil\")>=0 or info.find(\"Sahil\")>=0 or info.find(\"15 TEMMUZ\")>=0 \n",
    "       or info.find(\"15 Temmuz\")>=0 or info.find(\"sahil\")>=0 or info.find(\"deniz\")>=0 or info.find(\"Deniz\")>=0):\n",
    "        return 1\n",
    "    else:\n",
    "        return 0\n",
    "df[\"boğaza_bakan\"]=df[\"İlan Adı\"].map(search_info_bogaz)"
   ]
  },
  {
   "cell_type": "code",
   "execution_count": 191,
   "id": "dbc8165b-5d97-4ef0-88c8-c750a0dc2d86",
   "metadata": {},
   "outputs": [
    {
     "data": {
      "text/plain": [
       "boğaza_bakan\n",
       "False    1475\n",
       "True       25\n",
       "Name: count, dtype: int64"
      ]
     },
     "execution_count": 191,
     "metadata": {},
     "output_type": "execute_result"
    }
   ],
   "source": [
    "(df[\"boğaza_bakan\"]==1).value_counts()"
   ]
  },
  {
   "cell_type": "markdown",
   "id": "26c1dca1-3367-4b6c-90bf-f7a761b7e5b5",
   "metadata": {},
   "source": [
    "# Metroya yakınlık"
   ]
  },
  {
   "cell_type": "code",
   "execution_count": 192,
   "id": "69138821-b973-4130-a83a-4d5be398d618",
   "metadata": {},
   "outputs": [],
   "source": [
    "def search_info_metro(info):\n",
    "    if(info.find(\"Metro\")>=0 or info.find(\"metro\")>=0):\n",
    "        return 1\n",
    "    else:\n",
    "        return 0\n",
    "df[\"metroya_yakınlık\"]=df[\"İlan Adı\"].map(search_info_metro)"
   ]
  },
  {
   "cell_type": "code",
   "execution_count": 193,
   "id": "1dd255d5-e7c7-4c11-9466-5f845c07709a",
   "metadata": {},
   "outputs": [
    {
     "data": {
      "text/plain": [
       "metroya_yakınlık\n",
       "False    1477\n",
       "True       23\n",
       "Name: count, dtype: int64"
      ]
     },
     "execution_count": 193,
     "metadata": {},
     "output_type": "execute_result"
    }
   ],
   "source": [
    "(df[\"metroya_yakınlık\"]==1).value_counts()"
   ]
  },
  {
   "cell_type": "markdown",
   "id": "b95d192e-65a6-4c01-97d1-4190c02a74bd",
   "metadata": {},
   "source": [
    "# Terası olup olmaması"
   ]
  },
  {
   "cell_type": "code",
   "execution_count": 194,
   "id": "f48a78a6-d1a4-4647-8b3a-3794f293e8a3",
   "metadata": {},
   "outputs": [],
   "source": [
    "def search_info_teras(info):\n",
    "    if(info.find(\"Teras\")>=0 or info.find(\"teras\")>=0 or info.find(\"dubleks\")>=0 \n",
    "       or info.find(\"Dubleks\")>=0 or info.find(\"DUBLEKS\")>=0 or info.find(\"tripleks\")>=0 or info.find(\"trip\")>=0\n",
    "       or info.find(\"TRİP\")>=0):\n",
    "        return 1\n",
    "    else:\n",
    "        return 0\n",
    "df[\"teraslı_olması\"]=df[\"İlan Adı\"].map(search_info_teras)"
   ]
  },
  {
   "cell_type": "code",
   "execution_count": 195,
   "id": "e2cb3b83-6645-4ac2-8b90-c04357037f49",
   "metadata": {},
   "outputs": [
    {
     "data": {
      "text/plain": [
       "teraslı_olması\n",
       "False    1456\n",
       "True       44\n",
       "Name: count, dtype: int64"
      ]
     },
     "execution_count": 195,
     "metadata": {},
     "output_type": "execute_result"
    }
   ],
   "source": [
    "(df[\"teraslı_olması\"]==1).value_counts()"
   ]
  },
  {
   "cell_type": "markdown",
   "id": "c13b50e1-56bb-49f1-9cfc-01c85210c68d",
   "metadata": {},
   "source": [
    "# Eşyalı olup olmaması"
   ]
  },
  {
   "cell_type": "code",
   "execution_count": 196,
   "id": "3e9185c7-dd3a-44d6-9dd5-94bee77a9dca",
   "metadata": {},
   "outputs": [],
   "source": [
    "def search_info_esya(info):\n",
    "    if(info.find(\"eşya\")>=0 or info.find(\"esya\")>=0 or\n",
    "       info.find(\"Eşya\")>=0 or info.find(\"Esya\")>=0 or\n",
    "       info.find(\"mob\")>=0 or info.find(\"Mob\")>=0 ):\n",
    "        return 1\n",
    "    else:\n",
    "        return 0\n",
    "df[\"esyalı_olması\"]=df[\"İlan Adı\"].map(search_info_esya)"
   ]
  },
  {
   "cell_type": "code",
   "execution_count": 197,
   "id": "ec623766-3349-4c76-bd30-810e7f9bc699",
   "metadata": {},
   "outputs": [
    {
     "data": {
      "text/plain": [
       "esyalı_olması\n",
       "False    1404\n",
       "True       96\n",
       "Name: count, dtype: int64"
      ]
     },
     "execution_count": 197,
     "metadata": {},
     "output_type": "execute_result"
    }
   ],
   "source": [
    "(df[\"esyalı_olması\"]==1).value_counts()"
   ]
  },
  {
   "cell_type": "markdown",
   "id": "b1e172ca-e5cc-4e0b-be9f-f12e2f7bd25d",
   "metadata": {},
   "source": [
    "# Bahçesi olup olmaması"
   ]
  },
  {
   "cell_type": "code",
   "execution_count": 198,
   "id": "4d445068-1da7-4941-be11-98fd0b75caba",
   "metadata": {},
   "outputs": [],
   "source": [
    "def search_info_bahce(info):\n",
    "    if(info.find(\"bahce\")>=0 or info.find(\"bahçe\")>=0):\n",
    "        return 1\n",
    "    else:\n",
    "        return 0\n",
    "df[\"bahceli_olması\"]=df[\"İlan Adı\"].map(search_info_bahce)"
   ]
  },
  {
   "cell_type": "code",
   "execution_count": 199,
   "id": "863bccbd-35a9-4638-80df-e824959df3e1",
   "metadata": {},
   "outputs": [
    {
     "data": {
      "text/plain": [
       "bahceli_olması\n",
       "False    1487\n",
       "True       13\n",
       "Name: count, dtype: int64"
      ]
     },
     "execution_count": 199,
     "metadata": {},
     "output_type": "execute_result"
    }
   ],
   "source": [
    "(df[\"bahceli_olması\"]==1).value_counts()"
   ]
  },
  {
   "cell_type": "code",
   "execution_count": 200,
   "id": "e36f76d6-424c-41b0-a3a4-7cbfef9ad30d",
   "metadata": {},
   "outputs": [
    {
     "name": "stdout",
     "output_type": "stream",
     "text": [
      "<class 'pandas.core.frame.DataFrame'>\n",
      "RangeIndex: 1500 entries, 0 to 1499\n",
      "Data columns (total 12 columns):\n",
      " #   Column                 Non-Null Count  Dtype \n",
      "---  ------                 --------------  ----- \n",
      " 0   İlan Adı               1500 non-null   object\n",
      " 1   İlan Fiyatı            1500 non-null   int64 \n",
      " 2   Adres bilgisi          1500 non-null   object\n",
      " 3   Konut büyüklüğü        1500 non-null   int64 \n",
      " 4   Konut tipi             1500 non-null   object\n",
      " 5   İlanın koyulma tarihi  1500 non-null   int64 \n",
      " 6   Oda sayısı             1500 non-null   object\n",
      " 7   boğaza_bakan           1500 non-null   int64 \n",
      " 8   metroya_yakınlık       1500 non-null   int64 \n",
      " 9   teraslı_olması         1500 non-null   int64 \n",
      " 10  esyalı_olması          1500 non-null   int64 \n",
      " 11  bahceli_olması         1500 non-null   int64 \n",
      "dtypes: int64(8), object(4)\n",
      "memory usage: 140.8+ KB\n"
     ]
    }
   ],
   "source": [
    "df.info()"
   ]
  },
  {
   "cell_type": "code",
   "execution_count": 201,
   "id": "3e93593f-5364-4172-bb8f-a29f864c6bda",
   "metadata": {},
   "outputs": [],
   "source": [
    "room_cnt=df[\"Oda sayısı\"].to_list()\n",
    "\n",
    "room=[]\n",
    "salon=[]\n",
    "for i in room_cnt:\n",
    "    if(i==\"Stüdyo\"):\n",
    "        room.append(1)\n",
    "        salon.append(0)\n",
    "    if(i==\"1 Oda\"):\n",
    "        room.append(1)\n",
    "        salon.append(0)\n",
    "    elif(i!=\"Stüdyo\" and i!=\"1 Oda\"):\n",
    "        room.append(float(i.split(\"+\")[0]))\n",
    "        salon.append(float(i.split(\"+\")[1]))\n",
    "df[\"oda_sayısı\"]=room\n",
    "df[\"salon_sayısı\"]=salon"
   ]
  },
  {
   "cell_type": "code",
   "execution_count": 202,
   "id": "9e1684fc-1dee-427d-868a-b7c29601707f",
   "metadata": {},
   "outputs": [
    {
     "name": "stdout",
     "output_type": "stream",
     "text": [
      "42718.33466666667\n",
      "15000.0\n"
     ]
    }
   ],
   "source": [
    "print(df[\"İlan Fiyatı\"].mean())\n",
    "print(df[\"İlan Fiyatı\"].median()) # medyan cok fazla gunluk daireler ve satılık evler modeli yanıltabilir.kurtulmamız gerek"
   ]
  },
  {
   "cell_type": "code",
   "execution_count": 203,
   "id": "cee96edc-2428-4061-b2bf-564d072b25da",
   "metadata": {},
   "outputs": [
    {
     "data": {
      "text/plain": [
       "397     22500000\n",
       "1039     3800000\n",
       "753      2900000\n",
       "131      2075000\n",
       "451      1650000\n",
       "1340      650000\n",
       "424       500000\n",
       "440       475000\n",
       "98        350000\n",
       "335       240000\n",
       "306       210000\n",
       "334       205000\n",
       "483       200000\n",
       "239       185000\n",
       "1126      170000\n",
       "Name: İlan Fiyatı, dtype: int64"
      ]
     },
     "execution_count": 203,
     "metadata": {},
     "output_type": "execute_result"
    }
   ],
   "source": [
    "df[\"İlan Fiyatı\"].sort_values(ascending=False).head(15)"
   ]
  },
  {
   "cell_type": "code",
   "execution_count": 204,
   "id": "9362b061-6cb4-426f-a9d4-3cbeedbd76d5",
   "metadata": {},
   "outputs": [],
   "source": [
    "for index , info in enumerate(df['İlan Fiyatı']):\n",
    "    if(info<3000):\n",
    "        df.drop(index,inplace=True)\n",
    "    if(info>300000):\n",
    "        df.drop(index,inplace=True)"
   ]
  },
  {
   "cell_type": "code",
   "execution_count": 205,
   "id": "15f4c254-a555-4bfd-9014-17109be82041",
   "metadata": {},
   "outputs": [
    {
     "data": {
      "text/plain": [
       "1042    3500\n",
       "985     4000\n",
       "185     4500\n",
       "593     5000\n",
       "1119    5000\n",
       "Name: İlan Fiyatı, dtype: int64"
      ]
     },
     "execution_count": 205,
     "metadata": {},
     "output_type": "execute_result"
    }
   ],
   "source": [
    "df[\"İlan Fiyatı\"].sort_values().head()"
   ]
  },
  {
   "cell_type": "code",
   "execution_count": 206,
   "id": "b0c9c210-7144-431b-aa5e-a18e624d2493",
   "metadata": {},
   "outputs": [
    {
     "data": {
      "text/plain": [
       "335    240000\n",
       "306    210000\n",
       "334    205000\n",
       "483    200000\n",
       "239    185000\n",
       "Name: İlan Fiyatı, dtype: int64"
      ]
     },
     "execution_count": 206,
     "metadata": {},
     "output_type": "execute_result"
    }
   ],
   "source": [
    "df[\"İlan Fiyatı\"].sort_values(ascending=False).head()"
   ]
  },
  {
   "cell_type": "code",
   "execution_count": 207,
   "id": "d98a9474-091a-451c-b42e-c3cc533fe2f3",
   "metadata": {},
   "outputs": [
    {
     "data": {
      "text/html": [
       "<div>\n",
       "<style scoped>\n",
       "    .dataframe tbody tr th:only-of-type {\n",
       "        vertical-align: middle;\n",
       "    }\n",
       "\n",
       "    .dataframe tbody tr th {\n",
       "        vertical-align: top;\n",
       "    }\n",
       "\n",
       "    .dataframe thead th {\n",
       "        text-align: right;\n",
       "    }\n",
       "</style>\n",
       "<table border=\"1\" class=\"dataframe\">\n",
       "  <thead>\n",
       "    <tr style=\"text-align: right;\">\n",
       "      <th></th>\n",
       "      <th>İlan Adı</th>\n",
       "      <th>İlan Fiyatı</th>\n",
       "      <th>Adres bilgisi</th>\n",
       "      <th>Konut büyüklüğü</th>\n",
       "      <th>Konut tipi</th>\n",
       "      <th>İlanın koyulma tarihi</th>\n",
       "      <th>Oda sayısı</th>\n",
       "      <th>boğaza_bakan</th>\n",
       "      <th>metroya_yakınlık</th>\n",
       "      <th>teraslı_olması</th>\n",
       "      <th>esyalı_olması</th>\n",
       "      <th>bahceli_olması</th>\n",
       "      <th>oda_sayısı</th>\n",
       "      <th>salon_sayısı</th>\n",
       "    </tr>\n",
       "  </thead>\n",
       "  <tbody>\n",
       "    <tr>\n",
       "      <th>0</th>\n",
       "      <td>Esenyurt RÜYA YAŞAM SİTESI</td>\n",
       "      <td>12000</td>\n",
       "      <td>Esenyurt</td>\n",
       "      <td>65</td>\n",
       "      <td>Villa</td>\n",
       "      <td>1</td>\n",
       "      <td>1+1</td>\n",
       "      <td>0</td>\n",
       "      <td>0</td>\n",
       "      <td>0</td>\n",
       "      <td>0</td>\n",
       "      <td>0</td>\n",
       "      <td>1.0</td>\n",
       "      <td>1.0</td>\n",
       "    </tr>\n",
       "    <tr>\n",
       "      <th>1</th>\n",
       "      <td>2+1 kiralık bahçe katı</td>\n",
       "      <td>9000</td>\n",
       "      <td>Başakşehir</td>\n",
       "      <td>85</td>\n",
       "      <td>Daire</td>\n",
       "      <td>1</td>\n",
       "      <td>2+1</td>\n",
       "      <td>0</td>\n",
       "      <td>0</td>\n",
       "      <td>0</td>\n",
       "      <td>0</td>\n",
       "      <td>1</td>\n",
       "      <td>2.0</td>\n",
       "      <td>1.0</td>\n",
       "    </tr>\n",
       "    <tr>\n",
       "      <th>2</th>\n",
       "      <td>ESENYURT PİRİ REİS MH GÜMÜŞ REFERANS İÇİ YAPIL...</td>\n",
       "      <td>13000</td>\n",
       "      <td>Esenyurt</td>\n",
       "      <td>90</td>\n",
       "      <td>Daire</td>\n",
       "      <td>1</td>\n",
       "      <td>1+1</td>\n",
       "      <td>0</td>\n",
       "      <td>0</td>\n",
       "      <td>0</td>\n",
       "      <td>0</td>\n",
       "      <td>0</td>\n",
       "      <td>1.0</td>\n",
       "      <td>1.0</td>\n",
       "    </tr>\n",
       "    <tr>\n",
       "      <th>3</th>\n",
       "      <td>IMTILAA GAYRİMENKUL DEN Fİ YAKA SİTESİ 3+1 12...</td>\n",
       "      <td>15000</td>\n",
       "      <td>Esenyurt</td>\n",
       "      <td>135</td>\n",
       "      <td>Daire</td>\n",
       "      <td>1</td>\n",
       "      <td>3+1</td>\n",
       "      <td>0</td>\n",
       "      <td>0</td>\n",
       "      <td>0</td>\n",
       "      <td>0</td>\n",
       "      <td>0</td>\n",
       "      <td>3.0</td>\n",
       "      <td>1.0</td>\n",
       "    </tr>\n",
       "    <tr>\n",
       "      <th>4</th>\n",
       "      <td>KRAL 34 GAYRİMENKUL DEN  60M1 1+1 KAT. 3  KİRA...</td>\n",
       "      <td>10000</td>\n",
       "      <td>Güngören</td>\n",
       "      <td>75</td>\n",
       "      <td>Daire</td>\n",
       "      <td>1</td>\n",
       "      <td>1+1</td>\n",
       "      <td>0</td>\n",
       "      <td>0</td>\n",
       "      <td>0</td>\n",
       "      <td>0</td>\n",
       "      <td>0</td>\n",
       "      <td>1.0</td>\n",
       "      <td>1.0</td>\n",
       "    </tr>\n",
       "  </tbody>\n",
       "</table>\n",
       "</div>"
      ],
      "text/plain": [
       "                                            İlan Adı  İlan Fiyatı  \\\n",
       "0                         Esenyurt RÜYA YAŞAM SİTESI        12000   \n",
       "1                             2+1 kiralık bahçe katı         9000   \n",
       "2  ESENYURT PİRİ REİS MH GÜMÜŞ REFERANS İÇİ YAPIL...        13000   \n",
       "3   IMTILAA GAYRİMENKUL DEN Fİ YAKA SİTESİ 3+1 12...        15000   \n",
       "4  KRAL 34 GAYRİMENKUL DEN  60M1 1+1 KAT. 3  KİRA...        10000   \n",
       "\n",
       "  Adres bilgisi  Konut büyüklüğü Konut tipi  İlanın koyulma tarihi Oda sayısı  \\\n",
       "0     Esenyurt                65      Villa                      1        1+1   \n",
       "1   Başakşehir                85      Daire                      1        2+1   \n",
       "2     Esenyurt                90      Daire                      1        1+1   \n",
       "3     Esenyurt               135      Daire                      1        3+1   \n",
       "4     Güngören                75      Daire                      1        1+1   \n",
       "\n",
       "   boğaza_bakan  metroya_yakınlık  teraslı_olması  esyalı_olması  \\\n",
       "0             0                 0               0              0   \n",
       "1             0                 0               0              0   \n",
       "2             0                 0               0              0   \n",
       "3             0                 0               0              0   \n",
       "4             0                 0               0              0   \n",
       "\n",
       "   bahceli_olması  oda_sayısı  salon_sayısı  \n",
       "0               0         1.0           1.0  \n",
       "1               1         2.0           1.0  \n",
       "2               0         1.0           1.0  \n",
       "3               0         3.0           1.0  \n",
       "4               0         1.0           1.0  "
      ]
     },
     "execution_count": 207,
     "metadata": {},
     "output_type": "execute_result"
    }
   ],
   "source": [
    "df.head()"
   ]
  },
  {
   "cell_type": "code",
   "execution_count": 208,
   "id": "b2029604-5e30-42e3-bb6e-0dcfc52cd8ea",
   "metadata": {},
   "outputs": [],
   "source": [
    "df.drop(columns=[\"İlan Adı\",\"Oda sayısı\"],inplace=True)"
   ]
  },
  {
   "cell_type": "code",
   "execution_count": 209,
   "id": "a4a276b4-d8e4-46be-9427-0267fd4d2112",
   "metadata": {},
   "outputs": [
    {
     "data": {
      "text/plain": [
       "Index(['İlan Fiyatı', 'Adres bilgisi', 'Konut büyüklüğü', 'Konut tipi',\n",
       "       'İlanın koyulma tarihi', 'boğaza_bakan', 'metroya_yakınlık',\n",
       "       'teraslı_olması', 'esyalı_olması', 'bahceli_olması', 'oda_sayısı',\n",
       "       'salon_sayısı'],\n",
       "      dtype='object')"
      ]
     },
     "execution_count": 209,
     "metadata": {},
     "output_type": "execute_result"
    }
   ],
   "source": [
    "df.columns"
   ]
  },
  {
   "cell_type": "markdown",
   "id": "97032ffb-e51f-4b35-a6fc-a168e20290fc",
   "metadata": {},
   "source": [
    "# EDA(Exploratory Data Analysis)"
   ]
  },
  {
   "cell_type": "code",
   "execution_count": 210,
   "id": "6a0556fc-466f-42c3-be0a-5260225d7ef2",
   "metadata": {},
   "outputs": [],
   "source": [
    "day=df[df[\"İlanın koyulma tarihi\"]<20]"
   ]
  },
  {
   "cell_type": "code",
   "execution_count": 211,
   "id": "e60ad454-8231-4d4e-ad07-1602fc381bd8",
   "metadata": {},
   "outputs": [
    {
     "name": "stderr",
     "output_type": "stream",
     "text": [
      "C:\\Users\\musta\\AppData\\Local\\Temp\\ipykernel_24280\\3097280510.py:2: UserWarning: \n",
      "\n",
      "`distplot` is a deprecated function and will be removed in seaborn v0.14.0.\n",
      "\n",
      "Please adapt your code to use either `displot` (a figure-level function with\n",
      "similar flexibility) or `histplot` (an axes-level function for histograms).\n",
      "\n",
      "For a guide to updating your code to use the new functions, please see\n",
      "https://gist.github.com/mwaskom/de44147ed2974457ad6372750bbe5751\n",
      "\n",
      "  g=sns.distplot(day[\"İlanın koyulma tarihi\"]);\n"
     ]
    },
    {
     "data": {
      "image/png": "[encoded data removed]",
      "text/plain": [
       "<Figure size 700x500 with 1 Axes>"
      ]
     },
     "metadata": {},
     "output_type": "display_data"
    }
   ],
   "source": [
    "plt.figure(figsize=(7,5))\n",
    "g=sns.distplot(day[\"İlanın koyulma tarihi\"]);\n",
    "g.set_title(\"Frequency Distribution Plot of duration 0-20\");"
   ]
  },
  {
   "cell_type": "code",
   "execution_count": 212,
   "id": "535b4797-3f19-4111-b079-856de8e452e1",
   "metadata": {},
   "outputs": [
    {
     "name": "stderr",
     "output_type": "stream",
     "text": [
      "C:\\Users\\musta\\AppData\\Local\\Temp\\ipykernel_24280\\1609898383.py:3: UserWarning: \n",
      "\n",
      "`distplot` is a deprecated function and will be removed in seaborn v0.14.0.\n",
      "\n",
      "Please adapt your code to use either `displot` (a figure-level function with\n",
      "similar flexibility) or `histplot` (an axes-level function for histograms).\n",
      "\n",
      "For a guide to updating your code to use the new functions, please see\n",
      "https://gist.github.com/mwaskom/de44147ed2974457ad6372750bbe5751\n",
      "\n",
      "  sns.distplot(x).set_title('Frequency Distribution Plot of m2')\n"
     ]
    },
    {
     "data": {
      "text/plain": [
       "Text(0.5, 1.0, 'Frequency Distribution Plot of m2')"
      ]
     },
     "execution_count": 212,
     "metadata": {},
     "output_type": "execute_result"
    },
    {
     "data": {
      "image/png": "[encoded data removed]",
      "text/plain": [
       "<Figure size 1000x600 with 1 Axes>"
      ]
     },
     "metadata": {},
     "output_type": "display_data"
    }
   ],
   "source": [
    "x = df[\"Konut büyüklüğü\"]\n",
    "plt.figure(figsize=(10,6))\n",
    "sns.distplot(x).set_title('Frequency Distribution Plot of m2')"
   ]
  },
  {
   "cell_type": "code",
   "execution_count": 213,
   "id": "df9e669c-051b-435d-8f97-f6e99317c6a9",
   "metadata": {},
   "outputs": [
    {
     "data": {
      "text/plain": [
       "array([<Axes: ylabel='count'>], dtype=object)"
      ]
     },
     "execution_count": 213,
     "metadata": {},
     "output_type": "execute_result"
    },
    {
     "data": {
      "image/png": "[encoded data removed]",
      "text/plain": [
       "<Figure size 500x500 with 1 Axes>"
      ]
     },
     "metadata": {},
     "output_type": "display_data"
    }
   ],
   "source": [
    "loc=df[\"Adres bilgisi\"].value_counts().head(15)\n",
    "loc.plot(kind='pie' ,subplots=True, figsize=(5, 5))"
   ]
  },
  {
   "cell_type": "code",
   "execution_count": 214,
   "id": "babd3657-25c2-4703-bf2e-16dda74fd47b",
   "metadata": {},
   "outputs": [
    {
     "data": {
      "image/png": "[encoded data removed]",
      "text/plain": [
       "<Figure size 1000x700 with 1 Axes>"
      ]
     },
     "metadata": {},
     "output_type": "display_data"
    }
   ],
   "source": [
    "en_pahalı_semtler=df.groupby(\"Adres bilgisi\")[\"İlan Fiyatı\"].mean().sort_values(ascending=False).head(3)\n",
    "en_pahalı_semtler=en_pahalı_semtler.index.to_list()\n",
    "\n",
    "plt.figure(figsize=(10,7));\n",
    "sns.barplot(x=df[\"Adres bilgisi\"][df[\"Adres bilgisi\"].isin(en_pahalı_semtler)],y=df[\"İlan Fiyatı\"],color=\"salmon\",saturation=.5);\n",
    "plt.xticks(rotation=30);"
   ]
  },
  {
   "cell_type": "code",
   "execution_count": 225,
   "id": "11da9457-7012-40c1-8cb0-23641a4541fb",
   "metadata": {},
   "outputs": [
    {
     "data": {
      "text/plain": [
       "Text(0.5, 1.0, 'm2 vs Fiyat')"
      ]
     },
     "execution_count": 225,
     "metadata": {},
     "output_type": "execute_result"
    },
    {
     "data": {
      "image/png": "[encoded data removed]",
      "text/plain": [
       "<Figure size 1000x600 with 1 Axes>"
      ]
     },
     "metadata": {},
     "output_type": "display_data"
    }
   ],
   "source": [
    "plt.figure(figsize=(10,6))\n",
    "sns.regplot(x='Konut büyüklüğü', y='İlan Fiyatı', data=df).set_title('m2 vs Fiyat')"
   ]
  },
  {
   "cell_type": "code",
   "execution_count": 216,
   "id": "3f450bc4-4d95-449a-aa0e-a0f7ee408ba8",
   "metadata": {},
   "outputs": [
    {
     "name": "stdout",
     "output_type": "stream",
     "text": [
      "<class 'pandas.core.frame.DataFrame'>\n",
      "Index: 1422 entries, 0 to 1499\n",
      "Data columns (total 12 columns):\n",
      " #   Column                 Non-Null Count  Dtype  \n",
      "---  ------                 --------------  -----  \n",
      " 0   İlan Fiyatı            1422 non-null   int64  \n",
      " 1   Adres bilgisi          1422 non-null   object \n",
      " 2   Konut büyüklüğü        1422 non-null   int64  \n",
      " 3   Konut tipi             1422 non-null   object \n",
      " 4   İlanın koyulma tarihi  1422 non-null   int64  \n",
      " 5   boğaza_bakan           1422 non-null   int64  \n",
      " 6   metroya_yakınlık       1422 non-null   int64  \n",
      " 7   teraslı_olması         1422 non-null   int64  \n",
      " 8   esyalı_olması          1422 non-null   int64  \n",
      " 9   bahceli_olması         1422 non-null   int64  \n",
      " 10  oda_sayısı             1422 non-null   float64\n",
      " 11  salon_sayısı           1422 non-null   float64\n",
      "dtypes: float64(2), int64(8), object(2)\n",
      "memory usage: 144.4+ KB\n"
     ]
    }
   ],
   "source": [
    "df.info()"
   ]
  },
  {
   "cell_type": "code",
   "execution_count": 217,
   "id": "3ac9ab3c-df38-41f5-baae-d995f877b70c",
   "metadata": {},
   "outputs": [
    {
     "data": {
      "text/html": [
       "<div>\n",
       "<style scoped>\n",
       "    .dataframe tbody tr th:only-of-type {\n",
       "        vertical-align: middle;\n",
       "    }\n",
       "\n",
       "    .dataframe tbody tr th {\n",
       "        vertical-align: top;\n",
       "    }\n",
       "\n",
       "    .dataframe thead th {\n",
       "        text-align: right;\n",
       "    }\n",
       "</style>\n",
       "<table border=\"1\" class=\"dataframe\">\n",
       "  <thead>\n",
       "    <tr style=\"text-align: right;\">\n",
       "      <th></th>\n",
       "      <th>İlan Fiyatı</th>\n",
       "      <th>Adres bilgisi</th>\n",
       "      <th>Konut büyüklüğü</th>\n",
       "      <th>Konut tipi</th>\n",
       "      <th>İlanın koyulma tarihi</th>\n",
       "      <th>boğaza_bakan</th>\n",
       "      <th>metroya_yakınlık</th>\n",
       "      <th>teraslı_olması</th>\n",
       "      <th>esyalı_olması</th>\n",
       "      <th>bahceli_olması</th>\n",
       "      <th>oda_sayısı</th>\n",
       "      <th>salon_sayısı</th>\n",
       "    </tr>\n",
       "  </thead>\n",
       "  <tbody>\n",
       "    <tr>\n",
       "      <th>0</th>\n",
       "      <td>12000</td>\n",
       "      <td>Esenyurt</td>\n",
       "      <td>65</td>\n",
       "      <td>Villa</td>\n",
       "      <td>1</td>\n",
       "      <td>0</td>\n",
       "      <td>0</td>\n",
       "      <td>0</td>\n",
       "      <td>0</td>\n",
       "      <td>0</td>\n",
       "      <td>1.0</td>\n",
       "      <td>1.0</td>\n",
       "    </tr>\n",
       "    <tr>\n",
       "      <th>1</th>\n",
       "      <td>9000</td>\n",
       "      <td>Başakşehir</td>\n",
       "      <td>85</td>\n",
       "      <td>Daire</td>\n",
       "      <td>1</td>\n",
       "      <td>0</td>\n",
       "      <td>0</td>\n",
       "      <td>0</td>\n",
       "      <td>0</td>\n",
       "      <td>1</td>\n",
       "      <td>2.0</td>\n",
       "      <td>1.0</td>\n",
       "    </tr>\n",
       "    <tr>\n",
       "      <th>2</th>\n",
       "      <td>13000</td>\n",
       "      <td>Esenyurt</td>\n",
       "      <td>90</td>\n",
       "      <td>Daire</td>\n",
       "      <td>1</td>\n",
       "      <td>0</td>\n",
       "      <td>0</td>\n",
       "      <td>0</td>\n",
       "      <td>0</td>\n",
       "      <td>0</td>\n",
       "      <td>1.0</td>\n",
       "      <td>1.0</td>\n",
       "    </tr>\n",
       "    <tr>\n",
       "      <th>3</th>\n",
       "      <td>15000</td>\n",
       "      <td>Esenyurt</td>\n",
       "      <td>135</td>\n",
       "      <td>Daire</td>\n",
       "      <td>1</td>\n",
       "      <td>0</td>\n",
       "      <td>0</td>\n",
       "      <td>0</td>\n",
       "      <td>0</td>\n",
       "      <td>0</td>\n",
       "      <td>3.0</td>\n",
       "      <td>1.0</td>\n",
       "    </tr>\n",
       "    <tr>\n",
       "      <th>4</th>\n",
       "      <td>10000</td>\n",
       "      <td>Güngören</td>\n",
       "      <td>75</td>\n",
       "      <td>Daire</td>\n",
       "      <td>1</td>\n",
       "      <td>0</td>\n",
       "      <td>0</td>\n",
       "      <td>0</td>\n",
       "      <td>0</td>\n",
       "      <td>0</td>\n",
       "      <td>1.0</td>\n",
       "      <td>1.0</td>\n",
       "    </tr>\n",
       "  </tbody>\n",
       "</table>\n",
       "</div>"
      ],
      "text/plain": [
       "   İlan Fiyatı Adres bilgisi  Konut büyüklüğü Konut tipi  \\\n",
       "0        12000     Esenyurt                65      Villa   \n",
       "1         9000   Başakşehir                85      Daire   \n",
       "2        13000     Esenyurt                90      Daire   \n",
       "3        15000     Esenyurt               135      Daire   \n",
       "4        10000     Güngören                75      Daire   \n",
       "\n",
       "   İlanın koyulma tarihi  boğaza_bakan  metroya_yakınlık  teraslı_olması  \\\n",
       "0                      1             0                 0               0   \n",
       "1                      1             0                 0               0   \n",
       "2                      1             0                 0               0   \n",
       "3                      1             0                 0               0   \n",
       "4                      1             0                 0               0   \n",
       "\n",
       "   esyalı_olması  bahceli_olması  oda_sayısı  salon_sayısı  \n",
       "0              0               0         1.0           1.0  \n",
       "1              0               1         2.0           1.0  \n",
       "2              0               0         1.0           1.0  \n",
       "3              0               0         3.0           1.0  \n",
       "4              0               0         1.0           1.0  "
      ]
     },
     "execution_count": 217,
     "metadata": {},
     "output_type": "execute_result"
    }
   ],
   "source": [
    "df.head()"
   ]
  },
  {
   "cell_type": "markdown",
   "id": "1da3bdd0-e3fb-42b6-a639-ed2f2aee5a6e",
   "metadata": {},
   "source": [
    "# Kategorik değişkenleri nümerik değişkenlerle değiştirmek"
   ]
  },
  {
   "cell_type": "code",
   "execution_count": 218,
   "id": "ba416a22-38f5-415a-b26d-23c5ce1521a6",
   "metadata": {},
   "outputs": [
    {
     "name": "stdout",
     "output_type": "stream",
     "text": [
      "<class 'pandas.core.frame.DataFrame'>\n",
      "Index: 1422 entries, 0 to 1499\n",
      "Data columns (total 12 columns):\n",
      " #   Column                 Non-Null Count  Dtype  \n",
      "---  ------                 --------------  -----  \n",
      " 0   İlan Fiyatı            1422 non-null   int64  \n",
      " 1   Adres bilgisi          1422 non-null   object \n",
      " 2   Konut büyüklüğü        1422 non-null   int64  \n",
      " 3   Konut tipi             1422 non-null   object \n",
      " 4   İlanın koyulma tarihi  1422 non-null   int64  \n",
      " 5   boğaza_bakan           1422 non-null   int64  \n",
      " 6   metroya_yakınlık       1422 non-null   int64  \n",
      " 7   teraslı_olması         1422 non-null   int64  \n",
      " 8   esyalı_olması          1422 non-null   int64  \n",
      " 9   bahceli_olması         1422 non-null   int64  \n",
      " 10  oda_sayısı             1422 non-null   float64\n",
      " 11  salon_sayısı           1422 non-null   float64\n",
      "dtypes: float64(2), int64(8), object(2)\n",
      "memory usage: 144.4+ KB\n"
     ]
    }
   ],
   "source": [
    "df.info()"
   ]
  },
  {
   "cell_type": "code",
   "execution_count": 219,
   "id": "c44ef0f8-f4b7-4d9a-b9e8-c5f5a5125abd",
   "metadata": {},
   "outputs": [],
   "source": [
    "cat_col=[\"Adres bilgisi\",\"Konut tipi\"]"
   ]
  },
  {
   "cell_type": "code",
   "execution_count": 220,
   "id": "2a3f8035-aa44-4de5-a555-d850bf75ecef",
   "metadata": {},
   "outputs": [],
   "source": [
    "df=pd.concat([pd.get_dummies(df[cat_col]),df],axis=1)\n",
    "df=df.drop(columns=cat_col)"
   ]
  },
  {
   "cell_type": "code",
   "execution_count": 222,
   "id": "38ec9fb9-a9bb-404c-b14e-614bfe82cb4c",
   "metadata": {},
   "outputs": [
    {
     "data": {
      "text/plain": [
       "Index(['Adres bilgisi_ Arnavutköy ', 'Adres bilgisi_ Ataşehir ',\n",
       "       'Adres bilgisi_ Avcılar ', 'Adres bilgisi_ Bahçelievler ',\n",
       "       'Adres bilgisi_ Bakırköy ', 'Adres bilgisi_ Bayrampaşa ',\n",
       "       'Adres bilgisi_ Bağcılar ', 'Adres bilgisi_ Başakşehir ',\n",
       "       'Adres bilgisi_ Beykoz ', 'Adres bilgisi_ Beylikdüzü ',\n",
       "       'Adres bilgisi_ Beyoğlu ', 'Adres bilgisi_ Beşiktaş ',\n",
       "       'Adres bilgisi_ Büyükçekmece ', 'Adres bilgisi_ Esenler ',\n",
       "       'Adres bilgisi_ Esenyurt ', 'Adres bilgisi_ Eyüpsultan ',\n",
       "       'Adres bilgisi_ Fatih ', 'Adres bilgisi_ Gaziosmanpaşa ',\n",
       "       'Adres bilgisi_ Güngören ', 'Adres bilgisi_ Kadıköy ',\n",
       "       'Adres bilgisi_ Kartal ', 'Adres bilgisi_ Kağıthane ',\n",
       "       'Adres bilgisi_ Küçükçekmece ', 'Adres bilgisi_ Maltepe ',\n",
       "       'Adres bilgisi_ Pendik ', 'Adres bilgisi_ Sancaktepe ',\n",
       "       'Adres bilgisi_ Sarıyer ', 'Adres bilgisi_ Silivri ',\n",
       "       'Adres bilgisi_ Sultanbeyli ', 'Adres bilgisi_ Sultangazi ',\n",
       "       'Adres bilgisi_ Tuzla ', 'Adres bilgisi_ Zeytinburnu ',\n",
       "       'Adres bilgisi_ Çatalca ', 'Adres bilgisi_ Çekmeköy ',\n",
       "       'Adres bilgisi_ Ümraniye ', 'Adres bilgisi_ Üsküdar ',\n",
       "       'Adres bilgisi_ Şile ', 'Adres bilgisi_ Şişli ', 'Konut tipi_Bina',\n",
       "       'Konut tipi_Daire', 'Konut tipi_Müstakil Ev', 'Konut tipi_Residence',\n",
       "       'Konut tipi_Villa', 'Konut tipi_Yalı Dairesi', 'İlan Fiyatı',\n",
       "       'Konut büyüklüğü', 'İlanın koyulma tarihi', 'boğaza_bakan',\n",
       "       'metroya_yakınlık', 'teraslı_olması', 'esyalı_olması', 'bahceli_olması',\n",
       "       'oda_sayısı', 'salon_sayısı'],\n",
       "      dtype='object')"
      ]
     },
     "execution_count": 222,
     "metadata": {},
     "output_type": "execute_result"
    }
   ],
   "source": [
    "df.columns"
   ]
  },
  {
   "cell_type": "code",
   "execution_count": 224,
   "id": "68680a68-212a-4c57-9d9d-cc1143854bb6",
   "metadata": {},
   "outputs": [],
   "source": [
    "df.to_csv(\"hazırlandiii.csv\")"
   ]
  }
 ],
 "metadata": {
  "kernelspec": {
   "display_name": "Python 3 (ipykernel)",
   "language": "python",
   "name": "python3"
  },
  "language_info": {
   "codemirror_mode": {
    "name": "ipython",
    "version": 3
   },
   "file_extension": ".py",
   "mimetype": "text/x-python",
   "name": "python",
   "nbconvert_exporter": "python",
   "pygments_lexer": "ipython3",
   "version": "3.11.5"
  }
 },
 "nbformat": 4,
 "nbformat_minor": 5
}
